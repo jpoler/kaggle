{
 "cells": [
  {
   "cell_type": "code",
   "execution_count": 1,
   "metadata": {
    "autoscroll": "json-false",
    "collapsed": false,
    "ein.tags": [
     "worksheet-0"
    ],
    "slideshow": {
     "slide_type": "-"
    }
   },
   "outputs": [
    {
     "name": "stderr",
     "output_type": "stream",
     "text": [
      "/Users/jonathanpoler/anaconda2/lib/python2.7/site-packages/sklearn/cross_validation.py:44: DeprecationWarning: This module was deprecated in version 0.18 in favor of the model_selection module into which all the refactored classes and functions are moved. Also note that the interface of the new CV iterators are different from that of this module. This module will be removed in 0.20.\n",
      "  \"This module will be removed in 0.20.\", DeprecationWarning)\n",
      "/Users/jonathanpoler/anaconda2/lib/python2.7/site-packages/sklearn/grid_search.py:43: DeprecationWarning: This module was deprecated in version 0.18 in favor of the model_selection module into which all the refactored classes and functions are moved. This module will be removed in 0.20.\n",
      "  DeprecationWarning)\n",
      "Using Theano backend.\n"
     ]
    },
    {
     "name": "stderr",
     "output_type": "stream",
     "text": [
      "/Users/jonathanpoler/anaconda2/lib/python2.7/site-packages/matplotlib/font_manager.py:273: UserWarning: Matplotlib is building the font cache using fc-list. This may take a moment.\n",
      "  warnings.warn('Matplotlib is building the font cache using fc-list. This may take a moment.')\n"
     ]
    }
   ],
   "source": [
    "import re\n",
    "import random\n",
    "from collections import OrderedDict\n",
    "\n",
    "import pandas as pd\n",
    "import matplotlib.pyplot as plt\n",
    "import seaborn as sns\n",
    "plt.style.use('ggplot')\n",
    "%matplotlib inline\n",
    "\n",
    "import numpy as np\n",
    "\n",
    "import sklearn\n",
    "\n",
    "from sklearn import preprocessing\n",
    "from sklearn.ensemble import RandomForestClassifier\n",
    "from sklearn.pipeline import make_pipeline\n",
    "from sklearn import preprocessing\n",
    "from sklearn.svm import SVC\n",
    "from sklearn.grid_search import GridSearchCV, RandomizedSearchCV\n",
    "from sklearn.feature_selection import SelectKBest\n",
    "from sklearn.feature_selection import chi2\n",
    "\n",
    "\n",
    "from mpl_toolkits.mplot3d import Axes3D\n",
    "from sklearn.cluster import KMeans\n",
    "from sklearn.decomposition import PCA\n",
    "from fancyimpute import MICE\n",
    "\n",
    "import scipy\n"
   ]
  },
  {
   "cell_type": "code",
   "execution_count": 2,
   "metadata": {
    "autoscroll": "json-false",
    "collapsed": false,
    "ein.tags": [
     "worksheet-0"
    ],
    "slideshow": {
     "slide_type": "-"
    }
   },
   "outputs": [],
   "source": [
    "train = pd.read_csv('~/personal/ai/projects/titanic/train.csv')\n",
    "test = pd.read_csv('~/personal/ai/projects/titanic/test.csv')"
   ]
  },
  {
   "cell_type": "markdown",
   "metadata": {
    "ein.tags": [
     "worksheet-0"
    ],
    "slideshow": {
     "slide_type": "-"
    }
   },
   "source": [
    "### Ideas for exploration\n",
    "\n",
    "1. Are the classes balanced? In other words, are the number of survivals approximately proportionate to the number of deaths in the training data?\n",
    "2. Can I see a 3D vizualization of the data?\n",
    "3. What are the main sources of variation in the data?\n",
    "4. Am I dropping features that are actually relevant?"
   ]
  },
  {
   "cell_type": "markdown",
   "metadata": {
    "ein.tags": [
     "worksheet-0"
    ],
    "slideshow": {
     "slide_type": "-"
    }
   },
   "source": [
    "#### Are the classes balanced?\n",
    "\n",
    "From below it appears that 61.6% of the data are deaths. I'm not sure if that counts as being imbalanced, but it is probably worth looking into different cost functions. Ng's course mentioned F1 score, though sklearn has a huge number of metrics to use."
   ]
  },
  {
   "cell_type": "code",
   "execution_count": 3,
   "metadata": {
    "autoscroll": "json-false",
    "collapsed": false,
    "ein.tags": [
     "worksheet-0"
    ],
    "slideshow": {
     "slide_type": "-"
    }
   },
   "outputs": [
    {
     "data": {
      "text/plain": [
       "0.61616161616161613"
      ]
     },
     "execution_count": 3,
     "metadata": {},
     "output_type": "execute_result"
    }
   ],
   "source": [
    "counts = train['Survived'].value_counts()\n",
    "counts[0]/ float(counts[0] + counts[1])"
   ]
  },
  {
   "cell_type": "markdown",
   "metadata": {
    "ein.tags": [
     "worksheet-0"
    ],
    "slideshow": {
     "slide_type": "-"
    }
   },
   "source": [
    "#### Can I visualize the data in 3D?\n",
    "\n"
   ]
  },
  {
   "cell_type": "markdown",
   "metadata": {
    "ein.tags": [
     "worksheet-0"
    ],
    "slideshow": {
     "slide_type": "-"
    }
   },
   "source": [
    "## Feature engineering\n",
    "\n",
    "I'll be joining train and test for this part"
   ]
  },
  {
   "cell_type": "code",
   "execution_count": 4,
   "metadata": {
    "autoscroll": "json-false",
    "collapsed": false,
    "ein.tags": [
     "worksheet-0"
    ],
    "slideshow": {
     "slide_type": "-"
    }
   },
   "outputs": [
    {
     "name": "stdout",
     "output_type": "stream",
     "text": [
      "<class 'pandas.core.frame.DataFrame'>\n",
      "RangeIndex: 891 entries, 0 to 890\n",
      "Data columns (total 12 columns):\n",
      "PassengerId    891 non-null int64\n",
      "Survived       891 non-null int64\n",
      "Pclass         891 non-null int64\n",
      "Name           891 non-null object\n",
      "Sex            891 non-null object\n",
      "Age            714 non-null float64\n",
      "SibSp          891 non-null int64\n",
      "Parch          891 non-null int64\n",
      "Ticket         891 non-null object\n",
      "Fare           891 non-null float64\n",
      "Cabin          204 non-null object\n",
      "Embarked       889 non-null object\n",
      "dtypes: float64(2), int64(5), object(5)\n",
      "memory usage: 83.6+ KB\n",
      "----------------------------------------\n",
      "<class 'pandas.core.frame.DataFrame'>\n",
      "RangeIndex: 418 entries, 0 to 417\n",
      "Data columns (total 11 columns):\n",
      "PassengerId    418 non-null int64\n",
      "Pclass         418 non-null int64\n",
      "Name           418 non-null object\n",
      "Sex            418 non-null object\n",
      "Age            332 non-null float64\n",
      "SibSp          418 non-null int64\n",
      "Parch          418 non-null int64\n",
      "Ticket         418 non-null object\n",
      "Fare           417 non-null float64\n",
      "Cabin          91 non-null object\n",
      "Embarked       418 non-null object\n",
      "dtypes: float64(2), int64(4), object(5)\n",
      "memory usage: 36.0+ KB\n"
     ]
    }
   ],
   "source": [
    "train.info()\n",
    "print('-'*40)\n",
    "test.info()"
   ]
  },
  {
   "cell_type": "code",
   "execution_count": 5,
   "metadata": {
    "autoscroll": "json-false",
    "collapsed": false,
    "ein.tags": [
     "worksheet-0"
    ],
    "slideshow": {
     "slide_type": "-"
    }
   },
   "outputs": [],
   "source": [
    "full = train.append(test, ignore_index=True)"
   ]
  },
  {
   "cell_type": "code",
   "execution_count": 6,
   "metadata": {
    "autoscroll": "json-false",
    "collapsed": false,
    "ein.tags": [
     "worksheet-0"
    ],
    "slideshow": {
     "slide_type": "-"
    }
   },
   "outputs": [
    {
     "name": "stdout",
     "output_type": "stream",
     "text": [
      "<class 'pandas.core.frame.DataFrame'>\n",
      "RangeIndex: 1309 entries, 0 to 1308\n",
      "Data columns (total 12 columns):\n",
      "Age            1046 non-null float64\n",
      "Cabin          295 non-null object\n",
      "Embarked       1307 non-null object\n",
      "Fare           1308 non-null float64\n",
      "Name           1309 non-null object\n",
      "Parch          1309 non-null int64\n",
      "PassengerId    1309 non-null int64\n",
      "Pclass         1309 non-null int64\n",
      "Sex            1309 non-null object\n",
      "SibSp          1309 non-null int64\n",
      "Survived       891 non-null float64\n",
      "Ticket         1309 non-null object\n",
      "dtypes: float64(3), int64(4), object(5)\n",
      "memory usage: 122.8+ KB\n"
     ]
    }
   ],
   "source": [
    "full.info()"
   ]
  },
  {
   "cell_type": "markdown",
   "metadata": {
    "ein.tags": [
     "worksheet-0"
    ],
    "slideshow": {
     "slide_type": "-"
    }
   },
   "source": [
    "### Drop Cabin, Name, PassengerId, and Ticket"
   ]
  },
  {
   "cell_type": "code",
   "execution_count": 7,
   "metadata": {
    "autoscroll": "json-false",
    "collapsed": false,
    "ein.tags": [
     "worksheet-0"
    ],
    "slideshow": {
     "slide_type": "-"
    }
   },
   "outputs": [
    {
     "data": {
      "text/plain": [
       "['Mr']"
      ]
     },
     "execution_count": 7,
     "metadata": {},
     "output_type": "execute_result"
    }
   ],
   "source": [
    "title_regex = re.compile('''\\, (\\w+)\\.''')\n",
    "title_regex.findall('Braund, Mr. Owen Harris')"
   ]
  },
  {
   "cell_type": "code",
   "execution_count": 8,
   "metadata": {
    "autoscroll": "json-false",
    "collapsed": false,
    "ein.tags": [
     "worksheet-0"
    ],
    "slideshow": {
     "slide_type": "-"
    }
   },
   "outputs": [],
   "source": [
    "def get_title(s):\n",
    "\tres = title_regex.findall(s)\n",
    "\tif len(res) > 0:\n",
    "\t\treturn res[0]\n",
    "\treturn 'no_title'"
   ]
  },
  {
   "cell_type": "code",
   "execution_count": 9,
   "metadata": {
    "autoscroll": "json-false",
    "collapsed": false,
    "ein.tags": [
     "worksheet-0"
    ],
    "slideshow": {
     "slide_type": "-"
    }
   },
   "outputs": [],
   "source": [
    "full['Title'] = full['Name'].apply(lambda s: get_title(s))"
   ]
  },
  {
   "cell_type": "code",
   "execution_count": 10,
   "metadata": {
    "autoscroll": "json-false",
    "collapsed": false,
    "ein.tags": [
     "worksheet-0"
    ],
    "slideshow": {
     "slide_type": "slide"
    }
   },
   "outputs": [
    {
     "data": {
      "text/plain": [
       "          Survived\n",
       "Title             \n",
       "Capt      0.000000\n",
       "Col       0.500000\n",
       "Don       0.000000\n",
       "Dona           NaN\n",
       "Dr        0.428571\n",
       "Jonkheer  0.000000\n",
       "Lady      1.000000\n",
       "Major     0.500000\n",
       "Master    0.575000\n",
       "Miss      0.697802\n",
       "Mlle      1.000000\n",
       "Mme       1.000000\n",
       "Mr        0.156673\n",
       "Mrs       0.792000\n",
       "Ms        1.000000\n",
       "Rev       0.000000\n",
       "Sir       1.000000\n",
       "no_title  1.000000"
      ]
     },
     "execution_count": 10,
     "metadata": {},
     "output_type": "execute_result"
    }
   ],
   "source": [
    "full[['Title', 'Survived']].groupby('Title').mean()"
   ]
  },
  {
   "cell_type": "code",
   "execution_count": 11,
   "metadata": {
    "autoscroll": "json-false",
    "collapsed": false,
    "ein.tags": [
     "worksheet-0"
    ],
    "slideshow": {
     "slide_type": "-"
    }
   },
   "outputs": [],
   "source": [
    "full.loc[full['Title'] == 'Dona', 'Title'] = 'Mrs'\n",
    "full.loc[full['Title'] == 'Mme', 'Title'] = 'Mrs'\n",
    "full.loc[full['Title'] == 'Mlle', 'Title'] = 'Ms'\n",
    "full.loc[full['Title'] == 'Miss', 'Title'] = 'Ms'"
   ]
  },
  {
   "cell_type": "code",
   "execution_count": 12,
   "metadata": {
    "autoscroll": "json-false",
    "collapsed": false,
    "ein.tags": [
     "worksheet-0"
    ],
    "slideshow": {
     "slide_type": "-"
    }
   },
   "outputs": [],
   "source": [
    "full.drop(['Cabin', 'Name', 'PassengerId', 'Ticket'], axis=1, inplace=True)"
   ]
  },
  {
   "cell_type": "code",
   "execution_count": 13,
   "metadata": {
    "autoscroll": "json-false",
    "collapsed": false,
    "ein.tags": [
     "worksheet-0"
    ],
    "slideshow": {
     "slide_type": "-"
    }
   },
   "outputs": [],
   "source": [
    "mlb = preprocessing.MultiLabelBinarizer()\n",
    "binary_features = mlb.fit_transform(full[['Embarked', 'Sex', 'Title']].as_matrix())\n",
    "binary_features\n",
    "full = full.drop(['Embarked', 'Sex', 'Title'], axis=1)\n",
    "full = full.join(pd.DataFrame(binary_features[:, 1:], columns=mlb.classes_[1:]))"
   ]
  },
  {
   "cell_type": "code",
   "execution_count": 14,
   "metadata": {
    "autoscroll": "json-false",
    "collapsed": false,
    "ein.tags": [
     "worksheet-0"
    ],
    "slideshow": {
     "slide_type": "-"
    }
   },
   "outputs": [],
   "source": [
    "full = full.apply(lambda x: x.apply(lambda y: float(y)))"
   ]
  },
  {
   "cell_type": "code",
   "execution_count": 15,
   "metadata": {
    "autoscroll": "json-false",
    "collapsed": false,
    "ein.tags": [
     "worksheet-0"
    ],
    "slideshow": {
     "slide_type": "-"
    }
   },
   "outputs": [
    {
     "name": "stdout",
     "output_type": "stream",
     "text": [
      "<class 'pandas.core.frame.DataFrame'>\n",
      "RangeIndex: 1309 entries, 0 to 1308\n",
      "Data columns (total 25 columns):\n",
      "Age         1046 non-null float64\n",
      "Fare        1308 non-null float64\n",
      "Parch       1309 non-null float64\n",
      "Pclass      1309 non-null float64\n",
      "SibSp       1309 non-null float64\n",
      "Survived    891 non-null float64\n",
      "C           1309 non-null float64\n",
      "Capt        1309 non-null float64\n",
      "Col         1309 non-null float64\n",
      "Don         1309 non-null float64\n",
      "Dr          1309 non-null float64\n",
      "Jonkheer    1309 non-null float64\n",
      "Lady        1309 non-null float64\n",
      "Major       1309 non-null float64\n",
      "Master      1309 non-null float64\n",
      "Mr          1309 non-null float64\n",
      "Mrs         1309 non-null float64\n",
      "Ms          1309 non-null float64\n",
      "Q           1309 non-null float64\n",
      "Rev         1309 non-null float64\n",
      "S           1309 non-null float64\n",
      "Sir         1309 non-null float64\n",
      "female      1309 non-null float64\n",
      "male        1309 non-null float64\n",
      "no_title    1309 non-null float64\n",
      "dtypes: float64(25)\n",
      "memory usage: 255.7 KB\n"
     ]
    }
   ],
   "source": [
    "full.info()"
   ]
  },
  {
   "cell_type": "code",
   "execution_count": 16,
   "metadata": {
    "autoscroll": "json-false",
    "collapsed": false,
    "ein.tags": [
     "worksheet-0"
    ],
    "slideshow": {
     "slide_type": "-"
    }
   },
   "outputs": [
    {
     "data": {
      "text/plain": [
       "               Age         Fare        Parch       Pclass        SibSp  \\\n",
       "count  1309.000000  1309.000000  1309.000000  1309.000000  1309.000000   \n",
       "mean     29.705265    33.295807     0.385027     2.294882     0.498854   \n",
       "std      12.924077    51.738880     0.865560     0.837836     1.041658   \n",
       "min       0.170000     0.000000     0.000000     1.000000     0.000000   \n",
       "25%      22.000000     7.895800     0.000000     2.000000     0.000000   \n",
       "50%      28.496410    14.454200     0.000000     3.000000     0.000000   \n",
       "75%      35.000000    31.275000     0.000000     3.000000     1.000000   \n",
       "max      80.000000   512.329200     9.000000     3.000000     8.000000   \n",
       "\n",
       "                 C         Capt          Col          Don           Dr  \\\n",
       "count  1309.000000  1309.000000  1309.000000  1309.000000  1309.000000   \n",
       "mean      0.206264     0.000764     0.003056     0.000764     0.006112   \n",
       "std       0.404777     0.027639     0.055216     0.027639     0.077967   \n",
       "min       0.000000     0.000000     0.000000     0.000000     0.000000   \n",
       "25%       0.000000     0.000000     0.000000     0.000000     0.000000   \n",
       "50%       0.000000     0.000000     0.000000     0.000000     0.000000   \n",
       "75%       0.000000     0.000000     0.000000     0.000000     0.000000   \n",
       "max       1.000000     1.000000     1.000000     1.000000     1.000000   \n",
       "\n",
       "          ...                Mr          Mrs           Ms            Q  \\\n",
       "count     ...       1309.000000  1309.000000  1309.000000  1309.000000   \n",
       "mean      ...          0.578304     0.152024     0.201681     0.093965   \n",
       "std       ...          0.494019     0.359182     0.401408     0.291891   \n",
       "min       ...          0.000000     0.000000     0.000000     0.000000   \n",
       "25%       ...          0.000000     0.000000     0.000000     0.000000   \n",
       "50%       ...          1.000000     0.000000     0.000000     0.000000   \n",
       "75%       ...          1.000000     0.000000     0.000000     0.000000   \n",
       "max       ...          1.000000     1.000000     1.000000     1.000000   \n",
       "\n",
       "               Rev            S          Sir       female         male  \\\n",
       "count  1309.000000  1309.000000  1309.000000  1309.000000  1309.000000   \n",
       "mean      0.006112     0.698243     0.000764     0.355997     0.644003   \n",
       "std       0.077967     0.459196     0.027639     0.478997     0.478997   \n",
       "min       0.000000     0.000000     0.000000     0.000000     0.000000   \n",
       "25%       0.000000     0.000000     0.000000     0.000000     0.000000   \n",
       "50%       0.000000     1.000000     0.000000     0.000000     1.000000   \n",
       "75%       0.000000     1.000000     0.000000     1.000000     1.000000   \n",
       "max       1.000000     1.000000     1.000000     1.000000     1.000000   \n",
       "\n",
       "          no_title  \n",
       "count  1309.000000  \n",
       "mean      0.000764  \n",
       "std       0.027639  \n",
       "min       0.000000  \n",
       "25%       0.000000  \n",
       "50%       0.000000  \n",
       "75%       0.000000  \n",
       "max       1.000000  \n",
       "\n",
       "[8 rows x 24 columns]"
      ]
     },
     "execution_count": 16,
     "metadata": {},
     "output_type": "execute_result"
    },
    {
     "name": "stdout",
     "output_type": "stream",
     "text": [
      "[MICE] Starting imputation round 87/110, elapsed time 0.154\n",
      "[MICE] Starting imputation round 88/110, elapsed time 0.155\n",
      "[MICE] Starting imputation round 89/110, elapsed time 0.156\n",
      "[MICE] Starting imputation round 90/110, elapsed time 0.157\n",
      "[MICE] Starting imputation round 91/110, elapsed time 0.158\n",
      "[MICE] Starting imputation round 92/110, elapsed time 0.159\n",
      "[MICE] Starting imputation round 93/110, elapsed time 0.160\n",
      "[MICE] Starting imputation round 94/110, elapsed time 0.161\n",
      "[MICE] Starting imputation round 95/110, elapsed time 0.162\n",
      "[MICE] Starting imputation round 96/110, elapsed time 0.162\n",
      "[MICE] Starting imputation round 97/110, elapsed time 0.163\n",
      "[MICE] Starting imputation round 98/110, elapsed time 0.164\n",
      "[MICE] Starting imputation round 99/110, elapsed time 0.165\n",
      "[MICE] Starting imputation round 100/110, elapsed time 0.166\n",
      "[MICE] Starting imputation round 101/110, elapsed time 0.167\n",
      "[MICE] Starting imputation round 102/110, elapsed time 0.167\n",
      "[MICE] Starting imputation round 103/110, elapsed time 0.168\n",
      "[MICE] Starting imputation round 104/110, elapsed time 0.172\n",
      "[MICE] Starting imputation round 105/110, elapsed time 0.173\n",
      "[MICE] Starting imputation round 106/110, elapsed time 0.174\n",
      "[MICE] Starting imputation round 107/110, elapsed time 0.175\n",
      "[MICE] Starting imputation round 108/110, elapsed time 0.176\n",
      "[MICE] Starting imputation round 109/110, elapsed time 0.176\n",
      "[MICE] Starting imputation round 110/110, elapsed time 0.177\n"
     ]
    },
    {
     "name": "stdout",
     "output_type": "stream",
     "text": [
      "[MICE] Starting imputation round 68/110, elapsed time 0.134\n",
      "[MICE] Starting imputation round 69/110, elapsed time 0.135\n",
      "[MICE] Starting imputation round 70/110, elapsed time 0.136\n",
      "[MICE] Starting imputation round 71/110, elapsed time 0.137\n",
      "[MICE] Starting imputation round 72/110, elapsed time 0.138\n",
      "[MICE] Starting imputation round 73/110, elapsed time 0.139\n",
      "[MICE] Starting imputation round 74/110, elapsed time 0.140\n",
      "[MICE] Starting imputation round 75/110, elapsed time 0.141\n",
      "[MICE] Starting imputation round 76/110, elapsed time 0.142\n",
      "[MICE] Starting imputation round 77/110, elapsed time 0.143\n",
      "[MICE] Starting imputation round 78/110, elapsed time 0.144\n",
      "[MICE] Starting imputation round 79/110, elapsed time 0.145\n",
      "[MICE] Starting imputation round 80/110, elapsed time 0.146\n",
      "[MICE] Starting imputation round 81/110, elapsed time 0.147\n",
      "[MICE] Starting imputation round 82/110, elapsed time 0.148\n",
      "[MICE] Starting imputation round 83/110, elapsed time 0.149\n",
      "[MICE] Starting imputation round 84/110, elapsed time 0.150\n",
      "[MICE] Starting imputation round 85/110, elapsed time 0.151\n",
      "[MICE] Starting imputation round 86/110, elapsed time 0.153\n"
     ]
    },
    {
     "name": "stdout",
     "output_type": "stream",
     "text": [
      "[MICE] Starting imputation round 57/110, elapsed time 0.124\n",
      "[MICE] Starting imputation round 58/110, elapsed time 0.125\n",
      "[MICE] Starting imputation round 59/110, elapsed time 0.126\n",
      "[MICE] Starting imputation round 60/110, elapsed time 0.127\n",
      "[MICE] Starting imputation round 61/110, elapsed time 0.128\n",
      "[MICE] Starting imputation round 62/110, elapsed time 0.129\n",
      "[MICE] Starting imputation round 63/110, elapsed time 0.129\n",
      "[MICE] Starting imputation round 64/110, elapsed time 0.130\n",
      "[MICE] Starting imputation round 65/110, elapsed time 0.131\n",
      "[MICE] Starting imputation round 66/110, elapsed time 0.132\n",
      "[MICE] Starting imputation round 67/110, elapsed time 0.133\n"
     ]
    },
    {
     "name": "stdout",
     "output_type": "stream",
     "text": [
      "[MICE] Starting imputation round 43/110, elapsed time 0.111\n",
      "[MICE] Starting imputation round 44/110, elapsed time 0.112\n",
      "[MICE] Starting imputation round 45/110, elapsed time 0.113\n",
      "[MICE] Starting imputation round 46/110, elapsed time 0.114\n",
      "[MICE] Starting imputation round 47/110, elapsed time 0.115\n",
      "[MICE] Starting imputation round 48/110, elapsed time 0.115\n",
      "[MICE] Starting imputation round 49/110, elapsed time 0.116\n",
      "[MICE] Starting imputation round 50/110, elapsed time 0.117\n",
      "[MICE] Starting imputation round 51/110, elapsed time 0.118\n",
      "[MICE] Starting imputation round 52/110, elapsed time 0.119\n",
      "[MICE] Starting imputation round 53/110, elapsed time 0.120\n",
      "[MICE] Starting imputation round 54/110, elapsed time 0.120\n",
      "[MICE] Starting imputation round 55/110, elapsed time 0.121\n",
      "[MICE] Starting imputation round 56/110, elapsed time 0.122\n"
     ]
    },
    {
     "name": "stdout",
     "output_type": "stream",
     "text": [
      "[MICE] Starting imputation round 20/110, elapsed time 0.089\n",
      "[MICE] Starting imputation round 21/110, elapsed time 0.090\n",
      "[MICE] Starting imputation round 22/110, elapsed time 0.091\n",
      "[MICE] Starting imputation round 23/110, elapsed time 0.092\n",
      "[MICE] Starting imputation round 24/110, elapsed time 0.093\n",
      "[MICE] Starting imputation round 25/110, elapsed time 0.094\n",
      "[MICE] Starting imputation round 26/110, elapsed time 0.095\n",
      "[MICE] Starting imputation round 27/110, elapsed time 0.096\n",
      "[MICE] Starting imputation round 28/110, elapsed time 0.097\n",
      "[MICE] Starting imputation round 29/110, elapsed time 0.098\n",
      "[MICE] Starting imputation round 30/110, elapsed time 0.099\n",
      "[MICE] Starting imputation round 31/110, elapsed time 0.100\n",
      "[MICE] Starting imputation round 32/110, elapsed time 0.100\n",
      "[MICE] Starting imputation round 33/110, elapsed time 0.101\n",
      "[MICE] Starting imputation round 34/110, elapsed time 0.102\n",
      "[MICE] Starting imputation round 35/110, elapsed time 0.103\n",
      "[MICE] Starting imputation round 36/110, elapsed time 0.104\n",
      "[MICE] Starting imputation round 37/110, elapsed time 0.105\n",
      "[MICE] Starting imputation round 38/110, elapsed time 0.105\n",
      "[MICE] Starting imputation round 39/110, elapsed time 0.107\n",
      "[MICE] Starting imputation round 40/110, elapsed time 0.108\n",
      "[MICE] Starting imputation round 41/110, elapsed time 0.109\n",
      "[MICE] Starting imputation round 42/110, elapsed time 0.110\n"
     ]
    },
    {
     "name": "stdout",
     "output_type": "stream",
     "text": [
      "[MICE] Starting imputation round 12/110, elapsed time 0.081\n",
      "[MICE] Starting imputation round 13/110, elapsed time 0.082\n",
      "[MICE] Starting imputation round 14/110, elapsed time 0.083\n",
      "[MICE] Starting imputation round 15/110, elapsed time 0.084\n",
      "[MICE] Starting imputation round 16/110, elapsed time 0.085\n",
      "[MICE] Starting imputation round 17/110, elapsed time 0.086\n",
      "[MICE] Starting imputation round 18/110, elapsed time 0.086\n",
      "[MICE] Starting imputation round 19/110, elapsed time 0.087\n"
     ]
    },
    {
     "name": "stdout",
     "output_type": "stream",
     "text": [
      "[MICE] Starting imputation round 2/110, elapsed time 0.070\n",
      "[MICE] Starting imputation round 3/110, elapsed time 0.072\n",
      "[MICE] Starting imputation round 4/110, elapsed time 0.073\n",
      "[MICE] Starting imputation round 5/110, elapsed time 0.074\n",
      "[MICE] Starting imputation round 6/110, elapsed time 0.075\n",
      "[MICE] Starting imputation round 7/110, elapsed time 0.076\n",
      "[MICE] Starting imputation round 8/110, elapsed time 0.077\n",
      "[MICE] Starting imputation round 9/110, elapsed time 0.078\n",
      "[MICE] Starting imputation round 10/110, elapsed time 0.079\n",
      "[MICE] Starting imputation round 11/110, elapsed time 0.079\n"
     ]
    },
    {
     "name": "stdout",
     "output_type": "stream",
     "text": [
      "[MICE] Completing matrix with shape (1309, 24)\n",
      "[MICE] Starting imputation round 1/110, elapsed time 0.001\n"
     ]
    }
   ],
   "source": [
    "full_imp =  MICE().complete(full.drop('Survived', axis=1).as_matrix())\n",
    "full_complete = pd.DataFrame(full_imp, index=full.index, columns=full.drop('Survived', axis=1).columns)\n",
    "full_complete.describe()"
   ]
  },
  {
   "cell_type": "code",
   "execution_count": 17,
   "metadata": {
    "autoscroll": "json-false",
    "collapsed": false,
    "ein.tags": [
     "worksheet-0"
    ],
    "slideshow": {
     "slide_type": "-"
    }
   },
   "outputs": [],
   "source": [
    "X_train = full_complete[:891]\n",
    "X_test = full_complete[891:]\n",
    "y_train = full['Survived'][:891]"
   ]
  },
  {
   "cell_type": "code",
   "execution_count": 18,
   "metadata": {
    "autoscroll": "json-false",
    "collapsed": false,
    "ein.tags": [
     "worksheet-0"
    ],
    "slideshow": {
     "slide_type": "-"
    }
   },
   "outputs": [],
   "source": [
    "\n",
    "\n",
    "clf = make_pipeline(preprocessing.Imputer(strategy='median', missing_values='NaN'),\n",
    "\t\t\t\t\tpreprocessing.StandardScaler(),\n",
    "\t\t\t\t\tPCA(n_components=3))\n",
    "\n",
    "\n",
    "X_r = clf.fit_transform(X_train)\n"
   ]
  },
  {
   "cell_type": "code",
   "execution_count": 19,
   "metadata": {
    "autoscroll": "json-false",
    "collapsed": false,
    "ein.tags": [
     "worksheet-0"
    ],
    "slideshow": {
     "slide_type": "-"
    }
   },
   "outputs": [],
   "source": [
    "sinkers = X_r[np.ix_(y_train == 0, [0, 1, 2])]\n",
    "floaters = X_r[np.ix_(y_train == 1, [0, 1, 2])]"
   ]
  },
  {
   "cell_type": "code",
   "execution_count": 20,
   "metadata": {
    "autoscroll": "json-false",
    "collapsed": false,
    "ein.tags": [
     "worksheet-0"
    ],
    "slideshow": {
     "slide_type": "-"
    }
   },
   "outputs": [
    {
     "data": {
      "image/png": "[encoded data removed]",
      "text/plain": [
       "<matplotlib.figure.Figure at 0x11c4d8690>"
      ]
     },
     "metadata": {},
     "output_type": "display_data"
    }
   ],
   "source": [
    "threedee = plt.figure().gca(projection='3d')\n",
    "threedee.scatter(sinkers[:, 0], sinkers[:, 1], sinkers[:, 2], c='r')\n",
    "threedee.scatter(floaters[:, 0], floaters[:, 1], floaters[:, 2], c='g')\n",
    "plt.rcParams['figure.figsize'] = [10, 10]\n",
    "plt.show()"
   ]
  },
  {
   "cell_type": "markdown",
   "metadata": {
    "ein.tags": [
     "worksheet-0"
    ],
    "slideshow": {
     "slide_type": "-"
    }
   },
   "source": [
    "# Methodology\n",
    "\n",
    "One of the things I am trying to figure out at this early stage is to develop at least in very general terms an algorithm of steps that can be used to approach a new dataset. I'll try to enumerate what I have come up with so far:\n",
    "\n",
    "1. Explore data manually / graphically\n",
    "2. Clean data\n",
    "3. Scale data\n",
    "4. Fit a model to the data\n",
    "\t- cross-validation\n",
    "\t- grid search\n",
    "\t- try a number of different estimators\n",
    "\t5. Evaluate the generality of that model\n",
    "\n",
    "### Feature Imputation\n",
    "\n",
    "From what I've read, it is only acceptable to perform impution on the training data. This confuses me, because I was under the impression that predictors would need all values to be present. Anyway, random forests can handle missing values, so I'm just going to leave this out for now and come back and do impution only if necessary.\n",
    "\n",
    "### Hyperparameter Grid Search With Pipeline\n",
    "\n",
    "The choice of parameters can be justified as follows.\n",
    "\n",
    "#### Impution\n",
    "\n",
    "All of the missing features are NaN. The choice between median and mean is more interesting. I have read in several places that a good rule of thumb is to impute numerical features with the median of that feature, and categorical features with the mode of that feature.\n",
    "\n",
    "#### Robust Scaler\n",
    "\n",
    "I chose to use Robust scaler because the fare features are pretty skewed. If they weren't skewed I would have used NormalScaler.\n",
    "\n",
    "#### SVC\n",
    "\n",
    "I chose to use [SVC](http://scikit-learn.org/stable/modules/generated/sklearn.svm.SVC.html#sklearn.svm.SVC) because it is one of the algorithms covered in Andrew Ng's Coursera machine learning course. That gave me a bit more confidence in choosing parameters. I'll also return to exprementing with ensemble methods if this doesn't show promise. [This Resource](http://scikit-learn.org/stable/auto_examples/svm/plot_rbf_parameters.html) suggested using a logarithmic grid for C and gamma between $10^{-3} and 10^{3}$. I'm also trying both a linear kernel and the rbf (radial basis function) kernel. C is a regularization paremeter. Gamma can be though of as restricting the size of the radius of influence of each individual training example."
   ]
  },
  {
   "cell_type": "code",
   "execution_count": 21,
   "metadata": {
    "autoscroll": "json-false",
    "collapsed": false,
    "ein.tags": [
     "worksheet-0"
    ],
    "slideshow": {
     "slide_type": "-"
    }
   },
   "outputs": [],
   "source": [
    "# params = [\n",
    "# \tdict(imputer__strategy=['median', 'most_frequent'],\n",
    "# \t\t randomforestclassifier__n_estimators=[i for i in range(20, 180, 10)],\n",
    "# \t\t randomforestclassifier__max_features=['auto', 'sqrt', 'log2'])\n",
    "# ]\n",
    "# params = [\n",
    "# \tdict(randomforestclassifier__n_estimators=[i for i in range(20, 180, 10)],\n",
    "# \t\t randomforestclassifier__max_features=['auto', 'sqrt', 'log2'])\n",
    "# ]\n",
    "\n",
    "# clf = make_pipeline(\n",
    "# #\tpreprocessing.Imputer(missing_values='NaN'),\n",
    "# \tRandomForestClassifier(),\n",
    "# )\n",
    "\n",
    "# grid_search = GridSearchCV(clf, params, verbose=1, cv=5, n_jobs=4)\n",
    "\n",
    "# grid_search.fit(X_train.fillna(-1), y_train)"
   ]
  },
  {
   "cell_type": "code",
   "execution_count": 22,
   "metadata": {
    "autoscroll": "json-false",
    "collapsed": false,
    "ein.tags": [
     "worksheet-0"
    ],
    "slideshow": {
     "slide_type": "-"
    }
   },
   "outputs": [
    {
     "name": "stderr",
     "output_type": "stream",
     "text": [
      "/Users/jonathanpoler/anaconda2/lib/python2.7/site-packages/sklearn/discriminant_analysis.py:389: UserWarning: Variables are collinear.\n",
      "  warnings.warn(\"Variables are collinear.\")\n"
     ]
    },
    {
     "name": "stdout",
     "output_type": "stream",
     "text": [
      "MLPClassifier: 0.817066167291 (0.0446433306857)\n",
      "LinearDiscriminantAnalysis: 0.827178526841 (0.0392177755396)\n"
     ]
    },
    {
     "name": "stdout",
     "output_type": "stream",
     "text": [
      "GaussianProcessClassifier: 0.817078651685 (0.0332280456436)\n",
      "GaussianNB: 0.674382022472 (0.148741129978)\n"
     ]
    },
    {
     "name": "stdout",
     "output_type": "stream",
     "text": [
      "SVC: 0.831660424469 (0.0375477457925)\n"
     ]
    },
    {
     "name": "stdout",
     "output_type": "stream",
     "text": [
      "AdaBoostClassifier: 0.81822721598 (0.0251131904333)\n"
     ]
    },
    {
     "name": "stdout",
     "output_type": "stream",
     "text": [
      "RandomForestClassifier: 0.810411985019 (0.0493842061274)\n"
     ]
    },
    {
     "name": "stderr",
     "output_type": "stream",
     "text": [
      "/Users/jonathanpoler/anaconda2/lib/python2.7/site-packages/sklearn/lda.py:4: DeprecationWarning: lda.LDA has been moved to discriminant_analysis.LinearDiscriminantAnalysis in 0.17 and will be removed in 0.19\n",
      "  \"in 0.17 and will be removed in 0.19\", DeprecationWarning)\n"
     ]
    },
    {
     "name": "stdout",
     "output_type": "stream",
     "text": [
      "KNeighborsClassifier: 0.81936329588 (0.0396714084139)\n",
      "DecisionTreeClassifier: 0.773433208489 (0.0491465691865)\n"
     ]
    }
   ],
   "source": [
    "from sklearn.neighbors import KNeighborsClassifier\n",
    "from sklearn.tree import DecisionTreeClassifier\n",
    "from sklearn.ensemble import RandomForestClassifier\n",
    "from sklearn.ensemble import AdaBoostClassifier\n",
    "from sklearn.svm import SVC\n",
    "from sklearn.gaussian_process import GaussianProcessClassifier\n",
    "from sklearn.naive_bayes import GaussianNB\n",
    "from sklearn.neural_network import MLPClassifier\n",
    "from sklearn.lda import LDA\n",
    "from sklearn.metrics import accuracy_score, precision_score, recall_score\n",
    "\n",
    "import matplotlib.pyplot as plt\n",
    "import seaborn as sns\n",
    "plt.style.use('ggplot')\n",
    "%matplotlib inline\n",
    "\n",
    "X_ready = preprocessing.RobustScaler().fit_transform(X_train)\n",
    "\n",
    "random_seed = 7\n",
    "num_instances = len(X_ready)\n",
    "n_folds = 10\n",
    "\n",
    "classifiers = [\n",
    "\tKNeighborsClassifier(),\n",
    "\tDecisionTreeClassifier(),\n",
    "\tRandomForestClassifier(),\n",
    "\tAdaBoostClassifier(),\n",
    "\tSVC(),\n",
    "\tGaussianProcessClassifier(),\n",
    "\tGaussianNB(),\n",
    "\tMLPClassifier(),\n",
    "\tLDA(),\n",
    "]\n",
    "\n",
    "results, names = [], []\n",
    "\n",
    "for clf in classifiers:\n",
    "\tkfold = sklearn.cross_validation.KFold(n=num_instances, n_folds=n_folds, random_state=random_seed)\n",
    "\tcv_results = sklearn.cross_validation.cross_val_score(clf, X_ready, y_train, cv=kfold, scoring='accuracy')\n",
    "\tresults.append(cv_results)\n",
    "\tnames.append(clf.__class__.__name__)\n",
    "\tprint('{}: {} ({})'.format(clf.__class__.__name__, cv_results.mean(), cv_results.std()))\n"
   ]
  },
  {
   "cell_type": "code",
   "execution_count": 23,
   "metadata": {
    "autoscroll": "json-false",
    "collapsed": false,
    "ein.tags": [
     "worksheet-0"
    ],
    "slideshow": {
     "slide_type": "-"
    }
   },
   "outputs": [
    {
     "data": {
      "image/png": "[encoded data removed]",
      "text/plain": [
       "<matplotlib.figure.Figure at 0x11c76c210>"
      ]
     },
     "metadata": {},
     "output_type": "display_data"
    }
   ],
   "source": [
    "fig = plt.figure()\n",
    "fig.suptitle('Algorithm Comparison')\t\n",
    "ax = fig.add_subplot(111)\n",
    "plt.boxplot(results)\n",
    "ax.set_xticklabels(names)\n",
    "plt.rcParams['figure.figsize'] = [20, 8]\n",
    "plt.show()\n"
   ]
  },
  {
   "cell_type": "markdown",
   "metadata": {
    "ein.tags": [
     "worksheet-0"
    ],
    "slideshow": {
     "slide_type": "-"
    }
   },
   "source": [
    "It looks like K-nearest-neighbors is doing well due to its low variance. Let's try and get a good result out of that."
   ]
  },
  {
   "cell_type": "code",
   "execution_count": 24,
   "metadata": {
    "autoscroll": "json-false",
    "collapsed": false,
    "ein.tags": [
     "worksheet-0"
    ],
    "slideshow": {
     "slide_type": "-"
    }
   },
   "outputs": [],
   "source": [
    "# params = [\n",
    "# \tdict(kneighborsclassifier__n_neighbors=np.linspace(5, 50, 10),\n",
    "# \t\t kneighborsclassifier__weights=['uniform', 'distance'],\n",
    "# \t\t kneighborsclassifier__p=[1,2,3,4],\n",
    "# \t\t kneighborsclassifier__leaf_size=np.linspace(10, 100, 10),\n",
    "# \t)\n",
    "# ]\n",
    "\n",
    "# # \n",
    "# clf = make_pipeline(\n",
    "# \tpreprocessing.RobustScaler(),\n",
    "# \tKNeighborsClassifier(),\n",
    "# )\n",
    "\n",
    "# grid_search = GridSearchCV(clf, params, verbose=1, cv=10, n_jobs=4)\n",
    "\n",
    "# grid_search.fit(X_train, y_train)\n"
   ]
  },
  {
   "cell_type": "code",
   "execution_count": 62,
   "metadata": {
    "autoscroll": "json-false",
    "collapsed": false,
    "ein.tags": [
     "worksheet-0"
    ],
    "slideshow": {
     "slide_type": "-"
    }
   },
   "outputs": [
    {
     "data": {
      "text/plain": [
       "RandomizedSearchCV(cv=10, error_score='raise',\n",
       "          estimator=Pipeline(steps=[('standardscaler', StandardScaler(copy=True, with_mean=True, with_std=True)), ('pca', PCA(copy=True, iterated_power='auto', n_components=None, random_state=None,\n",
       "  svd_solver='auto', tol=0.0, whiten=False)), ('svc', SVC(C=1.0, cache_size=1024, class_weight=None, coef0=0.0,\n",
       "  decision_function_shape=None, degree=3, gamma='auto', kernel='rbf',\n",
       "  max_iter=-1, probability=False, random_state=None, shrinking=True,\n",
       "  tol=0.001, verbose=False))]),\n",
       "          fit_params={}, iid=True, n_iter=300, n_jobs=4,\n",
       "          param_distributions={'svc__gamma': <scipy.stats._distn_infrastructure.rv_frozen object at 0x122b98950>, 'svc__class_weight': ['balanced', None], 'svc__C': <scipy.stats._distn_infrastructure.rv_frozen object at 0x122b98510>, 'svc__decision_function_shape': ['ovo', 'ovr'], 'pca__n_components': [1, 3, 5, 7, 9, 11, 13, 15, 17, 19, 21, 23], 'svc__kernel': ['rbf', 'sigmoid']},\n",
       "          pre_dispatch='2*n_jobs', random_state=None, refit=True,\n",
       "          scoring=None, verbose=1)"
      ]
     },
     "execution_count": 62,
     "metadata": {},
     "output_type": "execute_result"
    },
    {
     "name": "stderr",
     "output_type": "stream",
     "text": [
      "[Parallel(n_jobs=4)]: Done 3000 out of 3000 | elapsed:   59.6s finished\n"
     ]
    },
    {
     "name": "stderr",
     "output_type": "stream",
     "text": [
      "[Parallel(n_jobs=4)]: Done 1744 tasks      | elapsed:   30.0s\n"
     ]
    },
    {
     "name": "stderr",
     "output_type": "stream",
     "text": [
      "[Parallel(n_jobs=4)]: Done 744 tasks      | elapsed:   12.8s\n"
     ]
    },
    {
     "name": "stderr",
     "output_type": "stream",
     "text": [
      "[Parallel(n_jobs=4)]: Done 144 tasks      | elapsed:    2.9s\n"
     ]
    },
    {
     "name": "stdout",
     "output_type": "stream",
     "text": [
      "Fitting 10 folds for each of 300 candidates, totalling 3000 fits\n"
     ]
    }
   ],
   "source": [
    "params = dict(pca__n_components=range(1, len(X_train.columns), 2),\n",
    "\t\t svc__C=scipy.stats.expon(scale=100),\n",
    "\t\t svc__gamma=scipy.stats.expon(scale=.1),\n",
    "\t\t svc__kernel=['rbf', 'sigmoid'],\n",
    "\t\t svc__class_weight=['balanced', None],\n",
    "\t\t svc__decision_function_shape=['ovo', 'ovr'],\n",
    ")\n",
    "\n",
    "\n",
    "# \n",
    "clf = make_pipeline(\n",
    "\tpreprocessing.StandardScaler(),\n",
    "\tPCA(),\n",
    "\tSVC(cache_size=1024)\n",
    ")\n",
    "\n",
    "grid_search = RandomizedSearchCV(clf, params, verbose=1, cv=10, n_jobs=4, n_iter=300)\n",
    "\n",
    "grid_search.fit(X_train, y_train)\n"
   ]
  },
  {
   "cell_type": "code",
   "execution_count": 74,
   "metadata": {
    "autoscroll": "json-false",
    "collapsed": false,
    "ein.tags": [
     "worksheet-0"
    ],
    "slideshow": {
     "slide_type": "-"
    }
   },
   "outputs": [
    {
     "data": {
      "text/plain": [
       "0.8316498316498316"
      ]
     },
     "execution_count": 74,
     "metadata": {},
     "output_type": "execute_result"
    }
   ],
   "source": [
    "grid_search.best_score_"
   ]
  },
  {
   "cell_type": "code",
   "execution_count": 75,
   "metadata": {
    "autoscroll": "json-false",
    "collapsed": false,
    "ein.tags": [
     "worksheet-0"
    ],
    "slideshow": {
     "slide_type": "-"
    }
   },
   "outputs": [
    {
     "data": {
      "text/plain": [
       "{'pca__n_components': 17,\n",
       " 'svc__C': 96.28045343586771,\n",
       " 'svc__class_weight': None,\n",
       " 'svc__decision_function_shape': 'ovr',\n",
       " 'svc__gamma': 0.026012408919146662,\n",
       " 'svc__kernel': 'rbf'}"
      ]
     },
     "execution_count": 75,
     "metadata": {},
     "output_type": "execute_result"
    }
   ],
   "source": [
    "grid_search.best_params_"
   ]
  },
  {
   "cell_type": "code",
   "execution_count": 65,
   "metadata": {
    "autoscroll": "json-false",
    "collapsed": false,
    "ein.tags": [
     "worksheet-0"
    ],
    "slideshow": {
     "slide_type": "-"
    }
   },
   "outputs": [
    {
     "data": {
      "text/plain": [
       "['/tmp/randomsearch-scv-5.pkl']"
      ]
     },
     "execution_count": 65,
     "metadata": {},
     "output_type": "execute_result"
    }
   ],
   "source": [
    "from sklearn.externals import joblib\n",
    "\n",
    "joblib.dump(grid_search, '/tmp/randomsearch-scv-5.pkl')\n"
   ]
  },
  {
   "cell_type": "code",
   "execution_count": 73,
   "metadata": {
    "autoscroll": "json-false",
    "collapsed": false,
    "ein.tags": [
     "worksheet-0"
    ],
    "slideshow": {
     "slide_type": "-"
    }
   },
   "outputs": [],
   "source": [
    "grid_search = joblib.load('/tmp/randomsearch-scv-1.pkl')"
   ]
  },
  {
   "cell_type": "code",
   "execution_count": 28,
   "metadata": {
    "autoscroll": "json-false",
    "collapsed": false,
    "ein.tags": [
     "worksheet-0"
    ],
    "slideshow": {
     "slide_type": "-"
    }
   },
   "outputs": [
    {
     "data": {
      "text/plain": [
       "{'cv': 10,\n",
       " 'error_score': 'raise',\n",
       " 'estimator': Pipeline(steps=[('standardscaler', StandardScaler(copy=True, with_mean=True, with_std=True)), ('pca', PCA(copy=True, iterated_power='auto', n_components=None, random_state=None,\n",
       "   svd_solver='auto', tol=0.0, whiten=False)), ('svc', SVC(C=1.0, cache_size=1024, class_weight=None, coef0=0.0,\n",
       "   decision_function_shape=None, degree=3, gamma='auto', kernel='rbf',\n",
       "   max_iter=-1, probability=False, random_state=None, shrinking=True,\n",
       "   tol=0.001, verbose=False))]),\n",
       " 'estimator__pca': PCA(copy=True, iterated_power='auto', n_components=None, random_state=None,\n",
       "   svd_solver='auto', tol=0.0, whiten=False),\n",
       " 'estimator__pca__copy': True,\n",
       " 'estimator__pca__iterated_power': 'auto',\n",
       " 'estimator__pca__n_components': None,\n",
       " 'estimator__pca__random_state': None,\n",
       " 'estimator__pca__svd_solver': 'auto',\n",
       " 'estimator__pca__tol': 0.0,\n",
       " 'estimator__pca__whiten': False,\n",
       " 'estimator__standardscaler': StandardScaler(copy=True, with_mean=True, with_std=True),\n",
       " 'estimator__standardscaler__copy': True,\n",
       " 'estimator__standardscaler__with_mean': True,\n",
       " 'estimator__standardscaler__with_std': True,\n",
       " 'estimator__steps': [('standardscaler',\n",
       "   StandardScaler(copy=True, with_mean=True, with_std=True)),\n",
       "  ('pca',\n",
       "   PCA(copy=True, iterated_power='auto', n_components=None, random_state=None,\n",
       "     svd_solver='auto', tol=0.0, whiten=False)),\n",
       "  ('svc', SVC(C=1.0, cache_size=1024, class_weight=None, coef0=0.0,\n",
       "     decision_function_shape=None, degree=3, gamma='auto', kernel='rbf',\n",
       "     max_iter=-1, probability=False, random_state=None, shrinking=True,\n",
       "     tol=0.001, verbose=False))],\n",
       " 'estimator__svc': SVC(C=1.0, cache_size=1024, class_weight=None, coef0=0.0,\n",
       "   decision_function_shape=None, degree=3, gamma='auto', kernel='rbf',\n",
       "   max_iter=-1, probability=False, random_state=None, shrinking=True,\n",
       "   tol=0.001, verbose=False),\n",
       " 'estimator__svc__C': 1.0,\n",
       " 'estimator__svc__cache_size': 1024,\n",
       " 'estimator__svc__class_weight': None,\n",
       " 'estimator__svc__coef0': 0.0,\n",
       " 'estimator__svc__decision_function_shape': None,\n",
       " 'estimator__svc__degree': 3,\n",
       " 'estimator__svc__gamma': 'auto',\n",
       " 'estimator__svc__kernel': 'rbf',\n",
       " 'estimator__svc__max_iter': -1,\n",
       " 'estimator__svc__probability': False,\n",
       " 'estimator__svc__random_state': None,\n",
       " 'estimator__svc__shrinking': True,\n",
       " 'estimator__svc__tol': 0.001,\n",
       " 'estimator__svc__verbose': False,\n",
       " 'fit_params': {},\n",
       " 'iid': True,\n",
       " 'n_iter': 100,\n",
       " 'n_jobs': 4,\n",
       " 'param_distributions': {'pca__n_components': [1,\n",
       "   3,\n",
       "   5,\n",
       "   7,\n",
       "   9,\n",
       "   11,\n",
       "   13,\n",
       "   15,\n",
       "   17,\n",
       "   19,\n",
       "   21,\n",
       "   23],\n",
       "  'svc__C': <scipy.stats._distn_infrastructure.rv_frozen at 0x122303450>,\n",
       "  'svc__class_weight': ['balanced', None],\n",
       "  'svc__decision_function_shape': ['ovo', 'ovr'],\n",
       "  'svc__gamma': <scipy.stats._distn_infrastructure.rv_frozen at 0x122303810>,\n",
       "  'svc__kernel': ['rbf', 'sigmoid']},\n",
       " 'pre_dispatch': '2*n_jobs',\n",
       " 'random_state': None,\n",
       " 'refit': True,\n",
       " 'scoring': None,\n",
       " 'verbose': 1}"
      ]
     },
     "execution_count": 28,
     "metadata": {},
     "output_type": "execute_result"
    }
   ],
   "source": [
    "grid_search.get_params()"
   ]
  },
  {
   "cell_type": "code",
   "execution_count": 29,
   "metadata": {
    "autoscroll": "json-false",
    "collapsed": false,
    "ein.tags": [
     "worksheet-0"
    ],
    "slideshow": {
     "slide_type": "-"
    }
   },
   "outputs": [
    {
     "name": "stdout",
     "output_type": "stream",
     "text": [
      "<class 'pandas.core.frame.DataFrame'>\n",
      "RangeIndex: 418 entries, 891 to 1308\n",
      "Data columns (total 24 columns):\n",
      "Age         418 non-null float64\n",
      "Fare        418 non-null float64\n",
      "Parch       418 non-null float64\n",
      "Pclass      418 non-null float64\n",
      "SibSp       418 non-null float64\n",
      "C           418 non-null float64\n",
      "Capt        418 non-null float64\n",
      "Col         418 non-null float64\n",
      "Don         418 non-null float64\n",
      "Dr          418 non-null float64\n",
      "Jonkheer    418 non-null float64\n",
      "Lady        418 non-null float64\n",
      "Major       418 non-null float64\n",
      "Master      418 non-null float64\n",
      "Mr          418 non-null float64\n",
      "Mrs         418 non-null float64\n",
      "Ms          418 non-null float64\n",
      "Q           418 non-null float64\n",
      "Rev         418 non-null float64\n",
      "S           418 non-null float64\n",
      "Sir         418 non-null float64\n",
      "female      418 non-null float64\n",
      "male        418 non-null float64\n",
      "no_title    418 non-null float64\n",
      "dtypes: float64(24)\n",
      "memory usage: 78.4 KB\n",
      "None\n"
     ]
    }
   ],
   "source": [
    "print(X_test.info())"
   ]
  },
  {
   "cell_type": "code",
   "execution_count": 30,
   "metadata": {
    "autoscroll": "json-false",
    "collapsed": false,
    "ein.tags": [
     "worksheet-0"
    ],
    "slideshow": {
     "slide_type": "-"
    }
   },
   "outputs": [
    {
     "name": "stdout",
     "output_type": "stream",
     "text": [
      "Age         0\n",
      "Fare        0\n",
      "Parch       0\n",
      "Pclass      0\n",
      "SibSp       0\n",
      "C           0\n",
      "Capt        0\n",
      "Col         0\n",
      "Don         0\n",
      "Dr          0\n",
      "Jonkheer    0\n",
      "Lady        0\n",
      "Major       0\n",
      "Master      0\n",
      "Mr          0\n",
      "Mrs         0\n",
      "Ms          0\n",
      "Q           0\n",
      "Rev         0\n",
      "S           0\n",
      "Sir         0\n",
      "female      0\n",
      "male        0\n",
      "no_title    0\n",
      "dtype: int64\n"
     ]
    }
   ],
   "source": [
    "print(X_test.isnull().sum())"
   ]
  },
  {
   "cell_type": "code",
   "execution_count": 67,
   "metadata": {
    "autoscroll": "json-false",
    "collapsed": false,
    "ein.tags": [
     "worksheet-0"
    ],
    "slideshow": {
     "slide_type": "-"
    }
   },
   "outputs": [],
   "source": [
    "predictions = grid_search.predict(X_test)"
   ]
  },
  {
   "cell_type": "code",
   "execution_count": 68,
   "metadata": {
    "autoscroll": "json-false",
    "collapsed": false,
    "ein.tags": [
     "worksheet-0"
    ],
    "slideshow": {
     "slide_type": "-"
    }
   },
   "outputs": [
    {
     "data": {
      "text/plain": [
       "array([ 0.,  1.,  0.,  0.,  1.,  0.,  1.,  0.,  1.,  0.,  0.,  0.,  1.,\n",
       "        0.,  1.,  1.,  0.,  0.,  0.,  1.,  0.,  1.,  1.,  0.,  1.,  0.,\n",
       "        1.,  0.,  0.,  0.,  0.,  0.,  1.,  1.,  0.,  0.,  0.,  0.,  0.,\n",
       "        0.,  0.,  0.,  0.,  1.,  1.,  0.,  0.,  0.,  1.,  1.,  0.,  0.,\n",
       "        1.,  1.,  0.,  0.,  0.,  0.,  0.,  1.,  0.,  0.,  0.,  1.,  0.,\n",
       "        1.,  1.,  0.,  0.,  0.,  1.,  0.,  0.,  0.,  1.,  0.,  0.,  1.,\n",
       "        0.,  1.,  1.,  0.,  0.,  0.,  0.,  0.,  1.,  0.,  1.,  1.,  1.,\n",
       "        0.,  1.,  0.,  0.,  0.,  1.,  0.,  0.,  0.,  1.,  0.,  0.,  0.,\n",
       "        1.,  0.,  0.,  0.,  0.,  0.,  0.,  1.,  1.,  1.,  1.,  0.,  0.,\n",
       "        1.,  0.,  1.,  1.,  0.,  1.,  0.,  0.,  0.,  0.,  1.,  0.,  0.,\n",
       "        0.,  1.,  0.,  0.,  0.,  0.,  0.,  0.,  0.,  0.,  0.,  1.,  0.,\n",
       "        0.,  0.,  0.,  0.,  0.,  0.,  0.,  1.,  0.,  0.,  1.,  0.,  0.,\n",
       "        1.,  0.,  0.,  1.,  1.,  1.,  1.,  0.,  0.,  1.,  0.,  0.,  1.,\n",
       "        0.,  0.,  0.,  0.,  0.,  0.,  1.,  1.,  0.,  1.,  1.,  0.,  0.,\n",
       "        1.,  0.,  1.,  0.,  1.,  0.,  0.,  0.,  0.,  0.,  1.,  0.,  1.,\n",
       "        0.,  1.,  0.,  0.,  1.,  1.,  1.,  1.,  1.,  0.,  0.,  1.,  0.,\n",
       "        1.,  0.,  0.,  0.,  0.,  1.,  0.,  0.,  1.,  0.,  1.,  0.,  1.,\n",
       "        0.,  1.,  0.,  1.,  1.,  0.,  1.,  0.,  0.,  0.,  1.,  0.,  0.,\n",
       "        0.,  0.,  0.,  0.,  1.,  1.,  1.,  1.,  0.,  0.,  1.,  0.,  1.,\n",
       "        0.,  1.,  1.,  1.,  0.,  0.,  0.,  0.,  0.,  0.,  0.,  1.,  0.,\n",
       "        0.,  0.,  1.,  1.,  0.,  0.,  0.,  0.,  0.,  0.,  0.,  0.,  1.,\n",
       "        1.,  0.,  1.,  0.,  0.,  0.,  0.,  0.,  1.,  1.,  1.,  1.,  0.,\n",
       "        0.,  0.,  0.,  0.,  0.,  1.,  0.,  1.,  0.,  0.,  1.,  0.,  0.,\n",
       "        0.,  0.,  0.,  0.,  0.,  1.,  1.,  0.,  1.,  0.,  1.,  0.,  0.,\n",
       "        0.,  1.,  1.,  1.,  0.,  0.,  0.,  0.,  0.,  0.,  0.,  0.,  1.,\n",
       "        0.,  1.,  0.,  0.,  0.,  1.,  0.,  0.,  1.,  0.,  0.,  0.,  0.,\n",
       "        0.,  1.,  0.,  0.,  0.,  1.,  1.,  0.,  0.,  1.,  0.,  1.,  1.,\n",
       "        0.,  0.,  0.,  1.,  0.,  1.,  0.,  0.,  1.,  0.,  1.,  1.,  0.,\n",
       "        1.,  0.,  0.,  0.,  1.,  0.,  0.,  1.,  0.,  0.,  1.,  1.,  0.,\n",
       "        0.,  0.,  0.,  0.,  0.,  1.,  1.,  0.,  1.,  0.,  0.,  0.,  0.,\n",
       "        0.,  1.,  1.,  0.,  0.,  1.,  0.,  1.,  0.,  0.,  1.,  0.,  1.,\n",
       "        0.,  0.,  0.,  0.,  0.,  1.,  1.,  1.,  1.,  0.,  0.,  1.,  0.,\n",
       "        0.,  1.])"
      ]
     },
     "execution_count": 68,
     "metadata": {},
     "output_type": "execute_result"
    }
   ],
   "source": [
    "predictions"
   ]
  },
  {
   "cell_type": "code",
   "execution_count": 71,
   "metadata": {
    "autoscroll": "json-false",
    "collapsed": false,
    "ein.tags": [
     "worksheet-0"
    ],
    "slideshow": {
     "slide_type": "-"
    }
   },
   "outputs": [],
   "source": [
    "output = test.join(pd.DataFrame(predictions.astype(int), columns=['Survived']))"
   ]
  },
  {
   "cell_type": "code",
   "execution_count": 76,
   "metadata": {
    "autoscroll": "json-false",
    "collapsed": false,
    "ein.tags": [
     "worksheet-0"
    ],
    "slideshow": {
     "slide_type": "-"
    }
   },
   "outputs": [],
   "source": [
    "output[['PassengerId', 'Survived']].to_csv('~/personal/ai/projects/titanic/svc-pca-predictions-4.csv', sep=',', index=False)"
   ]
  }
 ],
 "metadata": {
  "kernelspec": {
   "display_name": "Python [Root]",
   "name": "Python [Root]"
  },
  "name": "titanic_prediction.ipynb"
 },
 "nbformat": 4,
 "nbformat_minor": 0
}
