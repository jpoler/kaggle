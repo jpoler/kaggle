{
 "cells": [
  {
   "cell_type": "code",
   "execution_count": 0,
   "metadata": {
    "autoscroll": "json-false",
    "collapsed": false,
    "ein.tags": [
     "worksheet-0"
    ],
    "slideshow": {
     "slide_type": "-"
    }
   },
   "outputs": [],
   "source": [
    "import pandas as pd\n",
    "import matplotlib.pyplot as plt\n",
    "import seaborn as sns\n",
    "plt.style.use('ggplot')\n",
    "%matplotlib inline\n",
    "\n",
    "import numpy as np"
   ]
  },
  {
   "cell_type": "code",
   "execution_count": 0,
   "metadata": {
    "autoscroll": "json-false",
    "collapsed": false,
    "ein.tags": [
     "worksheet-0"
    ],
    "slideshow": {
     "slide_type": "-"
    }
   },
   "outputs": [],
   "source": [
    "train = pd.read_csv('~/personal/ai/projects/titanic/train.csv')\n",
    "test = pd.read_csv('~/personal/ai/projects/titanic/test.csv')"
   ]
  },
  {
   "cell_type": "code",
   "execution_count": 500,
   "metadata": {
    "autoscroll": "json-false",
    "collapsed": false,
    "ein.tags": [
     "worksheet-0"
    ],
    "slideshow": {
     "slide_type": "-"
    }
   },
   "outputs": [
    {
     "data": {
      "text/plain": [
       "   PassengerId  Survived  Pclass  \\\n",
       "0            1         0       3   \n",
       "1            2         1       1   \n",
       "2            3         1       3   \n",
       "3            4         1       1   \n",
       "4            5         0       3   \n",
       "\n",
       "                                                Name     Sex   Age  SibSp  \\\n",
       "0                            Braund, Mr. Owen Harris    male  22.0      1   \n",
       "1  Cumings, Mrs. John Bradley (Florence Briggs Th...  female  38.0      1   \n",
       "2                             Heikkinen, Miss. Laina  female  26.0      0   \n",
       "3       Futrelle, Mrs. Jacques Heath (Lily May Peel)  female  35.0      1   \n",
       "4                           Allen, Mr. William Henry    male  35.0      0   \n",
       "\n",
       "   Parch            Ticket     Fare Cabin Embarked  \n",
       "0      0         A/5 21171   7.2500   NaN        S  \n",
       "1      0          PC 17599  71.2833   C85        C  \n",
       "2      0  STON/O2. 3101282   7.9250   NaN        S  \n",
       "3      0            113803  53.1000  C123        S  \n",
       "4      0            373450   8.0500   NaN        S  "
      ]
     },
     "execution_count": 500,
     "metadata": {},
     "output_type": "execute_result"
    }
   ],
   "source": [
    "train.head()"
   ]
  },
  {
   "cell_type": "code",
   "execution_count": 501,
   "metadata": {
    "autoscroll": "json-false",
    "collapsed": false,
    "ein.tags": [
     "worksheet-0"
    ],
    "slideshow": {
     "slide_type": "-"
    }
   },
   "outputs": [
    {
     "name": "stdout",
     "output_type": "stream",
     "text": [
      "<class 'pandas.core.frame.DataFrame'>\n",
      "RangeIndex: 891 entries, 0 to 890\n",
      "Data columns (total 12 columns):\n",
      "PassengerId    891 non-null int64\n",
      "Survived       891 non-null int64\n",
      "Pclass         891 non-null int64\n",
      "Name           891 non-null object\n",
      "Sex            891 non-null object\n",
      "Age            714 non-null float64\n",
      "SibSp          891 non-null int64\n",
      "Parch          891 non-null int64\n",
      "Ticket         891 non-null object\n",
      "Fare           891 non-null float64\n",
      "Cabin          204 non-null object\n",
      "Embarked       889 non-null object\n",
      "dtypes: float64(2), int64(5), object(5)\n",
      "memory usage: 83.6+ KB\n"
     ]
    }
   ],
   "source": [
    "train.info()"
   ]
  },
  {
   "cell_type": "code",
   "execution_count": 502,
   "metadata": {
    "autoscroll": "json-false",
    "collapsed": false,
    "ein.tags": [
     "worksheet-0"
    ],
    "slideshow": {
     "slide_type": "-"
    }
   },
   "outputs": [
    {
     "data": {
      "text/plain": [
       "       PassengerId    Survived      Pclass         Age       SibSp  \\\n",
       "count   891.000000  891.000000  891.000000  714.000000  891.000000   \n",
       "mean    446.000000    0.383838    2.308642   29.699118    0.523008   \n",
       "std     257.353842    0.486592    0.836071   14.526497    1.102743   \n",
       "min       1.000000    0.000000    1.000000    0.420000    0.000000   \n",
       "25%     223.500000    0.000000    2.000000         NaN    0.000000   \n",
       "50%     446.000000    0.000000    3.000000         NaN    0.000000   \n",
       "75%     668.500000    1.000000    3.000000         NaN    1.000000   \n",
       "max     891.000000    1.000000    3.000000   80.000000    8.000000   \n",
       "\n",
       "            Parch        Fare  \n",
       "count  891.000000  891.000000  \n",
       "mean     0.381594   32.204208  \n",
       "std      0.806057   49.693429  \n",
       "min      0.000000    0.000000  \n",
       "25%      0.000000    7.910400  \n",
       "50%      0.000000   14.454200  \n",
       "75%      0.000000   31.000000  \n",
       "max      6.000000  512.329200  "
      ]
     },
     "execution_count": 502,
     "metadata": {},
     "output_type": "execute_result"
    }
   ],
   "source": [
    "train.describe()"
   ]
  },
  {
   "cell_type": "code",
   "execution_count": 503,
   "metadata": {
    "autoscroll": "json-false",
    "collapsed": false,
    "ein.tags": [
     "worksheet-0"
    ],
    "slideshow": {
     "slide_type": "-"
    }
   },
   "outputs": [
    {
     "data": {
      "image/png": "[encoded data removed]",
      "text/plain": [
       "<matplotlib.figure.Figure at 0x151303850>"
      ]
     },
     "metadata": {},
     "output_type": "display_data"
    },
    {
     "data": {
      "text/plain": [
       "<matplotlib.axes._subplots.AxesSubplot at 0x155e2f550>"
      ]
     },
     "execution_count": 503,
     "metadata": {},
     "output_type": "execute_result"
    }
   ],
   "source": [
    "train.groupby(['Embarked']).sum()['Survived'].plot(kind='bar')"
   ]
  },
  {
   "cell_type": "markdown",
   "metadata": {
    "ein.tags": [
     "worksheet-0"
    ],
    "slideshow": {
     "slide_type": "-"
    }
   },
   "source": [
    "## Data Cleaning\n",
    "\n",
    "Alright, lets work through this systematically."
   ]
  },
  {
   "cell_type": "markdown",
   "metadata": {
    "ein.tags": [
     "worksheet-0"
    ],
    "slideshow": {
     "slide_type": "-"
    }
   },
   "source": [
    "### PassengerID\n",
    "\n",
    "Dropping, doesn't look to be useful."
   ]
  },
  {
   "cell_type": "code",
   "execution_count": 504,
   "metadata": {
    "autoscroll": "json-false",
    "collapsed": false,
    "ein.tags": [
     "worksheet-0"
    ],
    "slideshow": {
     "slide_type": "-"
    }
   },
   "outputs": [],
   "source": [
    "train = train.drop('PassengerId', axis=1)"
   ]
  },
  {
   "cell_type": "markdown",
   "metadata": {
    "ein.tags": [
     "worksheet-0"
    ],
    "slideshow": {
     "slide_type": "-"
    }
   },
   "source": [
    "### Pclass\n",
    "\n",
    "No empty values. It looks like there's definitely a relationship between Pclass and Survived. Not much else to do here."
   ]
  },
  {
   "cell_type": "code",
   "execution_count": 505,
   "metadata": {
    "autoscroll": "json-false",
    "collapsed": false,
    "ein.tags": [
     "worksheet-0"
    ],
    "slideshow": {
     "slide_type": "-"
    }
   },
   "outputs": [
    {
     "data": {
      "text/plain": [
       "0"
      ]
     },
     "execution_count": 505,
     "metadata": {},
     "output_type": "execute_result"
    }
   ],
   "source": [
    "test['Pclass'].isnull().sum()"
   ]
  },
  {
   "cell_type": "code",
   "execution_count": 506,
   "metadata": {
    "autoscroll": "json-false",
    "collapsed": false,
    "ein.tags": [
     "worksheet-0"
    ],
    "slideshow": {
     "slide_type": "-"
    }
   },
   "outputs": [
    {
     "data": {
      "image/png": "[encoded data removed]",
      "text/plain": [
       "<matplotlib.figure.Figure at 0x155e4ed10>"
      ]
     },
     "metadata": {},
     "output_type": "display_data"
    },
    {
     "data": {
      "text/plain": [
       "<matplotlib.axes._subplots.AxesSubplot at 0x155eb4290>"
      ]
     },
     "execution_count": 506,
     "metadata": {},
     "output_type": "execute_result"
    }
   ],
   "source": [
    "train[['Pclass', 'Survived']].groupby('Pclass').mean().plot.bar()"
   ]
  },
  {
   "cell_type": "code",
   "execution_count": 507,
   "metadata": {
    "autoscroll": "json-false",
    "collapsed": false,
    "ein.tags": [
     "worksheet-0"
    ],
    "slideshow": {
     "slide_type": "-"
    }
   },
   "outputs": [],
   "source": [
    "train['Pclass'] = train['Pclass'].astype(float)\n",
    "test['Pclass'] = test['Pclass'].astype(float)"
   ]
  },
  {
   "cell_type": "markdown",
   "metadata": {
    "ein.tags": [
     "worksheet-0"
    ],
    "slideshow": {
     "slide_type": "-"
    }
   },
   "source": [
    "### Name\n",
    "\n",
    "Call me irresponsible, but I'm going to drop Name because I don't have any experience with non-numeric data. I think that the standard approach is to make a new column for every unique name, but that would seem strange here since most people will have unique names. Also, the family variable will capture relaionships between people I imagine. I saw that someone used title in their script, but that would feel a bit like cheating."
   ]
  },
  {
   "cell_type": "code",
   "execution_count": 508,
   "metadata": {
    "autoscroll": "json-false",
    "collapsed": false,
    "ein.tags": [
     "worksheet-0"
    ],
    "slideshow": {
     "slide_type": "-"
    }
   },
   "outputs": [],
   "source": [
    "train = train.drop(['Name'], axis=1)\n",
    "test = test.drop(['Name'], axis=1)"
   ]
  },
  {
   "cell_type": "markdown",
   "metadata": {
    "ein.tags": [
     "worksheet-0"
    ],
    "slideshow": {
     "slide_type": "-"
    }
   },
   "source": [
    "### Gender\n",
    "\n",
    "It looks like females faired pretty well compared to males."
   ]
  },
  {
   "cell_type": "code",
   "execution_count": 509,
   "metadata": {
    "autoscroll": "json-false",
    "collapsed": false,
    "ein.tags": [
     "worksheet-0"
    ],
    "slideshow": {
     "slide_type": "-"
    }
   },
   "outputs": [
    {
     "data": {
      "image/png": "[encoded data removed]",
      "text/plain": [
       "<matplotlib.figure.Figure at 0x155d51890>"
      ]
     },
     "metadata": {},
     "output_type": "display_data"
    },
    {
     "data": {
      "text/plain": [
       "<matplotlib.axes._subplots.AxesSubplot at 0x156025e50>"
      ]
     },
     "execution_count": 509,
     "metadata": {},
     "output_type": "execute_result"
    }
   ],
   "source": [
    "\n",
    "sex_percentage = train[['Sex', 'Survived']].groupby(['Sex'], as_index=False).mean()\n",
    "sns.barplot(x='Sex', y='Survived', data=sex_percentage)\n"
   ]
  },
  {
   "cell_type": "code",
   "execution_count": 510,
   "metadata": {
    "autoscroll": "json-false",
    "collapsed": false,
    "ein.tags": [
     "worksheet-0"
    ],
    "slideshow": {
     "slide_type": "-"
    }
   },
   "outputs": [],
   "source": [
    "dummies_train = pd.get_dummies(train['Sex'])\n",
    "dummies_test = pd.get_dummies(test['Sex'])\n",
    "\n",
    "train = train.drop('Sex', axis=1)\n",
    "test = test.drop('Sex', axis=1)\n",
    "\n",
    "train = train.join(dummies_train)\n",
    "test = test.join(dummies_test)"
   ]
  },
  {
   "cell_type": "markdown",
   "metadata": {
    "ein.tags": [
     "worksheet-0"
    ],
    "slideshow": {
     "slide_type": "-"
    }
   },
   "source": [
    "### Age\n",
    "\n",
    "Age is missing some values, let's see if I can figure out how to fill them. I will take the mean and standard deviation of age, and then select random ages within one standard deviation of the mean and fill them in."
   ]
  },
  {
   "cell_type": "code",
   "execution_count": 511,
   "metadata": {
    "autoscroll": "json-false",
    "collapsed": false,
    "ein.tags": [
     "worksheet-0"
    ],
    "slideshow": {
     "slide_type": "-"
    }
   },
   "outputs": [
    {
     "data": {
      "image/png": "[encoded data removed]",
      "text/plain": [
       "<matplotlib.figure.Figure at 0x155ec7850>"
      ]
     },
     "metadata": {},
     "output_type": "display_data"
    },
    {
     "data": {
      "text/plain": [
       "<matplotlib.axes._subplots.AxesSubplot at 0x156292690>"
      ]
     },
     "execution_count": 511,
     "metadata": {},
     "output_type": "execute_result"
    }
   ],
   "source": [
    "train['Age'].plot(kind='hist', bins=50)"
   ]
  },
  {
   "cell_type": "code",
   "execution_count": 512,
   "metadata": {
    "autoscroll": "json-false",
    "collapsed": false,
    "ein.tags": [
     "worksheet-0"
    ],
    "slideshow": {
     "slide_type": "-"
    }
   },
   "outputs": [
    {
     "data": {
      "image/png": "[encoded data removed]",
      "text/plain": [
       "<matplotlib.figure.Figure at 0x151cb2c10>"
      ]
     },
     "metadata": {},
     "output_type": "display_data"
    },
    {
     "data": {
      "text/plain": [
       "<matplotlib.axes._subplots.AxesSubplot at 0x15640a450>"
      ]
     },
     "execution_count": 512,
     "metadata": {},
     "output_type": "execute_result"
    }
   ],
   "source": [
    "perished = train[train['Survived'] == 0]['Age']\n",
    "survived = train[train['Survived'] == 1]['Age']\n",
    "\n",
    "sns.kdeplot(perished, shade=True, label='perished')\n",
    "sns.kdeplot(survived, shade=True, label='survived')\n"
   ]
  },
  {
   "cell_type": "code",
   "execution_count": 513,
   "metadata": {
    "autoscroll": "json-false",
    "collapsed": false,
    "ein.tags": [
     "worksheet-0"
    ],
    "slideshow": {
     "slide_type": "-"
    }
   },
   "outputs": [
    {
     "data": {
      "image/png": "[encoded data removed]",
      "text/plain": [
       "<matplotlib.figure.Figure at 0x156449050>"
      ]
     },
     "metadata": {},
     "output_type": "display_data"
    },
    {
     "data": {
      "text/plain": [
       "<matplotlib.axes._subplots.AxesSubplot at 0x14ed7de90>"
      ]
     },
     "execution_count": 513,
     "metadata": {},
     "output_type": "execute_result"
    },
    {
     "name": "stdout",
     "output_type": "stream",
     "text": [
      "0\n"
     ]
    },
    {
     "name": "stderr",
     "output_type": "stream",
     "text": [
      "/Users/jonathanpoler/anaconda2/lib/python2.7/site-packages/ipykernel/__main__.py:16: SettingWithCopyWarning: \n",
      "A value is trying to be set on a copy of a slice from a DataFrame\n",
      "\n",
      "See the caveats in the documentation: http://pandas.pydata.org/pandas-docs/stable/indexing.html#indexing-view-versus-copy\n",
      "/Users/jonathanpoler/anaconda2/lib/python2.7/site-packages/ipykernel/__main__.py:17: SettingWithCopyWarning: \n",
      "A value is trying to be set on a copy of a slice from a DataFrame\n",
      "\n",
      "See the caveats in the documentation: http://pandas.pydata.org/pandas-docs/stable/indexing.html#indexing-view-versus-copy\n"
     ]
    }
   ],
   "source": [
    "\n",
    "mu_train = train['Age'].mean()\n",
    "sigma_train = train['Age'].std()\n",
    "missing_train = train['Age'].isnull().sum()\n",
    "\n",
    "mu_test = test['Age'].mean()\n",
    "sigma_test = test['Age'].std()\n",
    "missing_test = test['Age'].isnull().sum()\n",
    "\n",
    "fill_train = np.random.randint(mu_train - sigma_train, mu_train + sigma_train, size=missing_train)\n",
    "fill_test = np.random.randint(mu_test - sigma_test, mu_test + sigma_test, size=missing_test)\n",
    "\n",
    "train_copy = train.copy()\n",
    "test_copy = test.copy()\n",
    "\n",
    "train_copy['Age'][train_copy['Age'].isnull()] = fill_train\n",
    "test_copy['Age'][test_copy['Age'].isnull()] = fill_test\n",
    "\n",
    "print(train_copy['Age'].isnull().sum())\n",
    "\n",
    "fig, (ax1, ax2) = plt.subplots(1, 2, figsize=(20, 4))\n",
    "sns.kdeplot(train['Age'], label='original', ax=ax1)\n",
    "sns.kdeplot(train_copy['Age'], label='filled', ax=ax1)\n",
    "\n",
    "sns.kdeplot(test['Age'], label='original', ax=ax2)\n",
    "sns.kdeplot(test_copy['Age'], label='filled', ax=ax2)\n"
   ]
  },
  {
   "cell_type": "code",
   "execution_count": 514,
   "metadata": {
    "autoscroll": "json-false",
    "collapsed": false,
    "ein.tags": [
     "worksheet-0"
    ],
    "slideshow": {
     "slide_type": "-"
    }
   },
   "outputs": [
    {
     "data": {
      "text/plain": [
       "0"
      ]
     },
     "execution_count": 514,
     "metadata": {},
     "output_type": "execute_result"
    }
   ],
   "source": [
    "train_copy['Age'].isnull().sum()\n",
    "test_copy['Age'].isnull().sum()"
   ]
  },
  {
   "cell_type": "code",
   "execution_count": 515,
   "metadata": {
    "autoscroll": "json-false",
    "collapsed": false,
    "ein.tags": [
     "worksheet-0"
    ],
    "slideshow": {
     "slide_type": "-"
    }
   },
   "outputs": [],
   "source": [
    "train = train_copy\n",
    "test = test_copy"
   ]
  },
  {
   "cell_type": "code",
   "execution_count": 516,
   "metadata": {
    "autoscroll": "json-false",
    "collapsed": false,
    "ein.tags": [
     "worksheet-0"
    ],
    "slideshow": {
     "slide_type": "-"
    }
   },
   "outputs": [
    {
     "data": {
      "image/png": "[encoded data removed]",
      "text/plain": [
       "<matplotlib.figure.Figure at 0x156746190>"
      ]
     },
     "metadata": {},
     "output_type": "display_data"
    },
    {
     "data": {
      "text/plain": [
       "<matplotlib.axes._subplots.AxesSubplot at 0x156944390>"
      ]
     },
     "execution_count": 516,
     "metadata": {},
     "output_type": "execute_result"
    }
   ],
   "source": [
    "fig, axis1 = plt.subplots(1,1, figsize=(20,4))\n",
    "age_df = pd.DataFrame(train['Age'].astype(int), train['Survived'], columns=['Age', 'Survived'])\n",
    "average_age = train[['Age', 'Survived']].astype(int).groupby('Age', as_index=False).mean()\n",
    "sns.barplot(x='Age', y='Survived', data=average_age)"
   ]
  },
  {
   "cell_type": "markdown",
   "metadata": {
    "ein.tags": [
     "worksheet-0"
    ],
    "slideshow": {
     "slide_type": "-"
    }
   },
   "source": [
    "### SibSp and Parch\n",
    "\n",
    "Combining these columns by adding them together."
   ]
  },
  {
   "cell_type": "code",
   "execution_count": 517,
   "metadata": {
    "autoscroll": "json-false",
    "collapsed": false,
    "ein.tags": [
     "worksheet-0"
    ],
    "slideshow": {
     "slide_type": "-"
    }
   },
   "outputs": [],
   "source": [
    "train['Family'] = train['SibSp'].astype(float) + train['Parch'].astype(float)\n",
    "train = train.drop(['SibSp', 'Parch'], axis=1)"
   ]
  },
  {
   "cell_type": "code",
   "execution_count": 518,
   "metadata": {
    "autoscroll": "json-false",
    "collapsed": false,
    "ein.tags": [
     "worksheet-0"
    ],
    "slideshow": {
     "slide_type": "-"
    }
   },
   "outputs": [],
   "source": [
    "test['Family'] = test['SibSp'].astype(float) + test['Parch'].astype(float)\n",
    "test = test.drop(['SibSp', 'Parch'], axis=1)"
   ]
  },
  {
   "cell_type": "code",
   "execution_count": 519,
   "metadata": {
    "autoscroll": "json-false",
    "collapsed": false,
    "ein.tags": [
     "worksheet-0"
    ],
    "slideshow": {
     "slide_type": "-"
    }
   },
   "outputs": [
    {
     "data": {
      "image/png": "[encoded data removed]",
      "text/plain": [
       "<matplotlib.figure.Figure at 0x157050dd0>"
      ]
     },
     "metadata": {},
     "output_type": "display_data"
    },
    {
     "data": {
      "text/plain": [
       "<matplotlib.axes._subplots.AxesSubplot at 0x157a43c10>"
      ]
     },
     "execution_count": 519,
     "metadata": {},
     "output_type": "execute_result"
    }
   ],
   "source": [
    "fig, (ax1, ax2) = plt.subplots(1, 2, figsize=(20, 4))\n",
    "sns.countplot(x='Family', data=train, ax=ax1)\n",
    "sns.barplot(x='Family', y='Survived', data=train[['Family', 'Survived']].groupby('Family', as_index=False).mean(), ax=ax2)"
   ]
  },
  {
   "cell_type": "markdown",
   "metadata": {
    "ein.tags": [
     "worksheet-0"
    ],
    "slideshow": {
     "slide_type": "-"
    }
   },
   "source": [
    "### Ticket\n",
    "\n",
    "Dropping, doesn't seem very useful."
   ]
  },
  {
   "cell_type": "code",
   "execution_count": 520,
   "metadata": {
    "autoscroll": "json-false",
    "collapsed": false,
    "ein.tags": [
     "worksheet-0"
    ],
    "slideshow": {
     "slide_type": "-"
    }
   },
   "outputs": [],
   "source": [
    "train = train.drop('Ticket', axis=1)\n",
    "test = test.drop('Ticket', axis=1)"
   ]
  },
  {
   "cell_type": "markdown",
   "metadata": {
    "ein.tags": [
     "worksheet-0"
    ],
    "slideshow": {
     "slide_type": "-"
    }
   },
   "source": [
    "### Fare"
   ]
  },
  {
   "cell_type": "code",
   "execution_count": 521,
   "metadata": {
    "autoscroll": "json-false",
    "collapsed": false,
    "ein.tags": [
     "worksheet-0"
    ],
    "slideshow": {
     "slide_type": "-"
    }
   },
   "outputs": [
    {
     "data": {
      "image/png": "[encoded data removed]",
      "text/plain": [
       "<matplotlib.figure.Figure at 0x1561f5250>"
      ]
     },
     "metadata": {},
     "output_type": "display_data"
    },
    {
     "data": {
      "text/plain": [
       "<matplotlib.axes._subplots.AxesSubplot at 0x157b5f510>"
      ]
     },
     "execution_count": 521,
     "metadata": {},
     "output_type": "execute_result"
    }
   ],
   "source": [
    "train['Fare'].plot.hist(bins=50)"
   ]
  },
  {
   "cell_type": "code",
   "execution_count": 522,
   "metadata": {
    "autoscroll": "json-false",
    "collapsed": false,
    "ein.tags": [
     "worksheet-0"
    ],
    "slideshow": {
     "slide_type": "-"
    }
   },
   "outputs": [
    {
     "name": "stdout",
     "output_type": "stream",
     "text": [
      "Missing training fares: 0\n",
      "Missing test fares: 1\n"
     ]
    }
   ],
   "source": [
    "print('Missing training fares: {}'.format(train['Fare'].isnull().sum()))\n",
    "print('Missing test fares: {}'.format(test['Fare'].isnull().sum()))"
   ]
  },
  {
   "cell_type": "code",
   "execution_count": 523,
   "metadata": {
    "autoscroll": "json-false",
    "collapsed": false,
    "ein.tags": [
     "worksheet-0"
    ],
    "slideshow": {
     "slide_type": "-"
    }
   },
   "outputs": [
    {
     "data": {
      "image/png": "[encoded data removed]",
      "text/plain": [
       "<matplotlib.figure.Figure at 0x1567465d0>"
      ]
     },
     "metadata": {},
     "output_type": "display_data"
    },
    {
     "data": {
      "text/plain": [
       "<matplotlib.axes._subplots.AxesSubplot at 0x157e90490>"
      ]
     },
     "execution_count": 523,
     "metadata": {},
     "output_type": "execute_result"
    }
   ],
   "source": [
    "sns.boxplot(x='Survived', y='Fare', data=train)"
   ]
  },
  {
   "cell_type": "markdown",
   "metadata": {
    "ein.tags": [
     "worksheet-0"
    ],
    "slideshow": {
     "slide_type": "-"
    }
   },
   "source": [
    "The data is highly skewed, I'm going to fill the missing test value as the median of all test fares."
   ]
  },
  {
   "cell_type": "code",
   "execution_count": 524,
   "metadata": {
    "autoscroll": "json-false",
    "collapsed": false,
    "ein.tags": [
     "worksheet-0"
    ],
    "slideshow": {
     "slide_type": "-"
    }
   },
   "outputs": [],
   "source": [
    "median = test['Fare'].median()\n",
    "test['Fare'] = test['Fare'].fillna(median)"
   ]
  },
  {
   "cell_type": "markdown",
   "metadata": {
    "ein.tags": [
     "worksheet-0"
    ],
    "slideshow": {
     "slide_type": "-"
    }
   },
   "source": [
    "### Cabin\n",
    "\n",
    "Dropping Cabin right off the bat because it has so many missing values."
   ]
  },
  {
   "cell_type": "code",
   "execution_count": 525,
   "metadata": {
    "autoscroll": "json-false",
    "collapsed": false,
    "ein.tags": [
     "worksheet-0"
    ],
    "slideshow": {
     "slide_type": "-"
    }
   },
   "outputs": [],
   "source": [
    "train = train.drop(['Cabin'], axis=1)\n",
    "test = test.drop(['Cabin'], axis=1)"
   ]
  },
  {
   "cell_type": "markdown",
   "metadata": {
    "ein.tags": [
     "worksheet-0"
    ],
    "slideshow": {
     "slide_type": "-"
    }
   },
   "source": [
    "### Embarked"
   ]
  },
  {
   "cell_type": "code",
   "execution_count": 526,
   "metadata": {
    "autoscroll": "json-false",
    "collapsed": false,
    "ein.tags": [
     "worksheet-0"
    ],
    "slideshow": {
     "slide_type": "-"
    }
   },
   "outputs": [
    {
     "name": "stdout",
     "output_type": "stream",
     "text": [
      "Missing training Embarked: 2\n",
      "Missing test Embarked: 0\n"
     ]
    }
   ],
   "source": [
    "print('Missing training Embarked: {}'.format(train['Embarked'].isnull().sum()))\n",
    "print('Missing test Embarked: {}'.format(test['Embarked'].isnull().sum()))\n"
   ]
  },
  {
   "cell_type": "code",
   "execution_count": 527,
   "metadata": {
    "autoscroll": "json-false",
    "collapsed": false,
    "ein.tags": [
     "worksheet-0"
    ],
    "slideshow": {
     "slide_type": "-"
    }
   },
   "outputs": [
    {
     "data": {
      "image/png": "[encoded data removed]",
      "text/plain": [
       "<matplotlib.figure.Figure at 0x15820c990>"
      ]
     },
     "metadata": {},
     "output_type": "display_data"
    },
    {
     "data": {
      "text/plain": [
       "<matplotlib.axes._subplots.AxesSubplot at 0x156761210>"
      ]
     },
     "execution_count": 527,
     "metadata": {},
     "output_type": "execute_result"
    }
   ],
   "source": [
    "sns.countplot(x='Embarked', data=train)"
   ]
  },
  {
   "cell_type": "markdown",
   "metadata": {
    "ein.tags": [
     "worksheet-0"
    ],
    "slideshow": {
     "slide_type": "-"
    }
   },
   "source": [
    "Filling with \"S\", which is the most common value."
   ]
  },
  {
   "cell_type": "code",
   "execution_count": 528,
   "metadata": {
    "autoscroll": "json-false",
    "collapsed": false,
    "ein.tags": [
     "worksheet-0"
    ],
    "slideshow": {
     "slide_type": "-"
    }
   },
   "outputs": [],
   "source": [
    "train['Embarked'] = train['Embarked'].fillna('S')"
   ]
  },
  {
   "cell_type": "code",
   "execution_count": 529,
   "metadata": {
    "autoscroll": "json-false",
    "collapsed": false,
    "ein.tags": [
     "worksheet-0"
    ],
    "slideshow": {
     "slide_type": "-"
    }
   },
   "outputs": [
    {
     "data": {
      "image/png": "[encoded data removed]",
      "text/plain": [
       "<matplotlib.figure.Figure at 0x158348ad0>"
      ]
     },
     "metadata": {},
     "output_type": "display_data"
    },
    {
     "data": {
      "text/plain": [
       "<matplotlib.axes._subplots.AxesSubplot at 0x1583ecc50>"
      ]
     },
     "execution_count": 529,
     "metadata": {},
     "output_type": "execute_result"
    }
   ],
   "source": [
    "train[['Embarked', 'Survived']].groupby('Embarked').mean().plot.bar()"
   ]
  },
  {
   "cell_type": "code",
   "execution_count": 530,
   "metadata": {
    "autoscroll": "json-false",
    "collapsed": false,
    "ein.tags": [
     "worksheet-0"
    ],
    "slideshow": {
     "slide_type": "-"
    }
   },
   "outputs": [],
   "source": [
    "embarked_dummies_train = pd.get_dummies(train['Embarked'])\n",
    "embarked_dummies_test = pd.get_dummies(test['Embarked'])"
   ]
  },
  {
   "cell_type": "code",
   "execution_count": 531,
   "metadata": {
    "autoscroll": "json-false",
    "collapsed": false,
    "ein.tags": [
     "worksheet-0"
    ],
    "slideshow": {
     "slide_type": "-"
    }
   },
   "outputs": [],
   "source": [
    "train = train.drop('Embarked', axis=1)\n",
    "test = test.drop('Embarked', axis=1)"
   ]
  },
  {
   "cell_type": "code",
   "execution_count": 532,
   "metadata": {
    "autoscroll": "json-false",
    "collapsed": false,
    "ein.tags": [
     "worksheet-0"
    ],
    "slideshow": {
     "slide_type": "-"
    }
   },
   "outputs": [],
   "source": [
    "train = train.join(embarked_dummies_train)\n",
    "test = test.join(embarked_dummies_test)"
   ]
  },
  {
   "cell_type": "markdown",
   "metadata": {
    "ein.tags": [
     "worksheet-0"
    ],
    "slideshow": {
     "slide_type": "-"
    }
   },
   "source": [
    "# Prediction\n",
    "\n",
    "The data is ready, and everything is converted to float. Seems like random forests are the way to go based on the tutorials.\n",
    "\n",
    "## Random Forests\n",
    "\n",
    "Random forests are a type of averaging ensemble method. The idea is to add randomization to the construction of a predictor, and then average the results. This helps by reducing variance.\n",
    "\n",
    "Random forests are a perturb and combine techinique.\n",
    "\n",
    "### OK, but what does all of this really mean?\n",
    "\n",
    "I decided to resort to [metacademy](https://metacademy.org/graphs/concepts/random_forests#focus=adxqdwpb&mode=explore) in order to gain some traction. After looking at the graph, I decided that I should probably backtrack and figure out what decision trees are in more depth.\n",
    "\n",
    "### Decision Trees\n",
    "\n",
    "[Decision trees](https://metacademy.org/graphs/concepts/random_forests#focus=decision_trees&mode=learn) lead me to The Elements of Statistical Learning 9.2.\n",
    "\n",
    "We can conceptualize what decision trees do in 3D. Imagine X1 and X2 are our first two dimensions, and Y is our height dimension. We want to partition the X1, X2 plane into rectangles recursively. We do this by constructing a tree that uses thresholds to classify a particular sample. We check the threshold against a particular feature of our sample at every node, and go in the direction specified by the decision recursively until we reach a terminal node. The node we end up at has a constant multiplier associated with it, which specifies the prediction Y for our input sample. Y is referred to as a response variable. A visual representation makes all of the difference, I recommend referring to the book this is unclear.\n",
    "\n",
    "#### Regression Trees\n",
    "\n",
    "Use cost-complexity pruning governed by a parameter alpha to find the optimal balance of goodness-of-fit to computational complexity (size of tree).\n",
    "\n",
    "Cost function is squared error between actual y for a region and the value of the estimates in that region. that also takes into account the number of terminal nodes (a form of regularization it seems).\n",
    "\n",
    "Build a tree to a certain depth, and then prune by weakest-link pruning. This means iteratively find the internal node in the tree that provides the smallest increase in goodness of fit and collapse it until we are left with just the root node. The optimal balance of fit and computation is provably in that ancestry.\n",
    "\n",
    "#### Classification Trees\n",
    "\n",
    "Basically the same as regression trees, but the cost function is no longer greedy least squares optimization.\n",
    "\n",
    "There are several ways of classifying errors, but the three stated are:\n",
    "\n",
    "1. Misclassification error\n",
    "2. Gini Index\n",
    "3. Cross-entropy or deviance\n",
    "\n",
    "Gini Index and Cross-entropy are used during the construction of the tree, because they are more sensitive to changes in node probility than the misclassification rate.\n",
    "\n",
    "For cost-complexity pruning, the cost measure used is generally misclassification.\n",
    "\n",
    "#### Categorical Predictors\n",
    "\n",
    "Unordered categories q can have $2^{q-1} - 1$ possible splits of the data into two. This quickly becomes intractible with large q. However, it is possible to treat the categories as if they were ordered. The text referrs to a 0-1 outcome which sounds vaguely similar to one-vs-all.\n",
    "\n",
    "#### Loss Matrix\n",
    "\n",
    "Some misclassifications are more costly than others. Therefore, a loss matrix assigns weight to each sort of misclassification. It is ${\\rm I\\!R}^{K x K}$ in dimension where K is the number of classes.\n",
    "\n",
    "#### Missing Predictor Values\n",
    "\n",
    "There are two standard options in general when predictor values are missing.\n",
    "\n",
    "1. Drop the observation altogether.\n",
    "2. Impute the missing value based the mean of the feature.\n",
    "\n",
    "With trees, there are actually better options (this doesn't bode well for much of the work that I did in cleaning the data in this project):\n",
    "\n",
    "1. Add a missing category.\n",
    "2. Use surrogate predictors. This basically means that if an observation is lacking a feature needed for the primary predictor, instead use the surrogate the best mimics the primary predictor but can be used in the face of the missing feature.\t\n",
    "\n",
    "#### Why binary splits?\n",
    "\n",
    "It turns out that splits of degree greater than 2 are actually not good because it fragments the data too quickly as it traverses down the tree.\n",
    "\n",
    "#### Instability of Trees\n",
    "\n",
    "Trees are inherently very high in variance. A small change in the data can result in a much different tree. This is due to trying to reduce the complexity of the data into a tree. That's where bagging comes in, which will average over many trees to reduce this variance.\n",
    "\n",
    "#### Lack of smoothness\n",
    "\n",
    "This can be seen more easily graphically, but CART can be addressed by MARS apparently.\n",
    "\n",
    "#### Trees cannot capture additive structure\n",
    "\n",
    "The output should sometimes be from two features added together e.g. $Y = c_1I(X_1 < t_1) + c_2I(X_2 < t_2) + \\epsilon$\n",
    "\n",
    "\n",
    "\n",
    "\n"
   ]
  },
  {
   "cell_type": "code",
   "execution_count": 533,
   "metadata": {
    "autoscroll": "json-false",
    "collapsed": false,
    "ein.tags": [
     "worksheet-0"
    ],
    "slideshow": {
     "slide_type": "slide"
    }
   },
   "outputs": [
    {
     "name": "stdout",
     "output_type": "stream",
     "text": [
      "<class 'pandas.core.frame.DataFrame'>\n",
      "RangeIndex: 891 entries, 0 to 890\n",
      "Data columns (total 10 columns):\n",
      "Survived    891 non-null int64\n",
      "Pclass      891 non-null float64\n",
      "Age         891 non-null float64\n",
      "Fare        891 non-null float64\n",
      "female      891 non-null float64\n",
      "male        891 non-null float64\n",
      "Family      891 non-null float64\n",
      "C           891 non-null float64\n",
      "Q           891 non-null float64\n",
      "S           891 non-null float64\n",
      "dtypes: float64(9), int64(1)\n",
      "memory usage: 69.7 KB\n"
     ]
    }
   ],
   "source": [
    "train.info()"
   ]
  },
  {
   "cell_type": "code",
   "execution_count": 669,
   "metadata": {
    "autoscroll": "json-false",
    "collapsed": false,
    "ein.tags": [
     "worksheet-0"
    ],
    "slideshow": {
     "slide_type": "-"
    }
   },
   "outputs": [],
   "source": [
    "X_train = train.drop('Survived', axis=1)\n",
    "y_train = train['Survived']\n",
    "X_final = test.drop('PassengerId', axis=1)"
   ]
  },
  {
   "cell_type": "code",
   "execution_count": 568,
   "metadata": {
    "autoscroll": "json-false",
    "collapsed": false,
    "ein.tags": [
     "worksheet-0"
    ],
    "slideshow": {
     "slide_type": "-"
    }
   },
   "outputs": [],
   "source": [
    "from sklearn.ensemble import RandomForestClassifier\n",
    "from sklearn import cross_validation\n",
    "from sklearn.grid_search import GridSearchCV"
   ]
  },
  {
   "cell_type": "code",
   "execution_count": 592,
   "metadata": {
    "autoscroll": "json-false",
    "collapsed": false,
    "ein.tags": [
     "worksheet-0"
    ],
    "slideshow": {
     "slide_type": "-"
    }
   },
   "outputs": [
    {
     "data": {
      "text/plain": [
       "10"
      ]
     },
     "execution_count": 592,
     "metadata": {},
     "output_type": "execute_result"
    }
   ],
   "source": [
    "\n"
   ]
  },
  {
   "cell_type": "code",
   "execution_count": 610,
   "metadata": {
    "autoscroll": "json-false",
    "collapsed": false,
    "ein.tags": [
     "worksheet-0"
    ],
    "slideshow": {
     "slide_type": "-"
    }
   },
   "outputs": [
    {
     "data": {
      "image/png": "[encoded data removed]",
      "text/plain": [
       "<matplotlib.figure.Figure at 0x158c2cc90>"
      ]
     },
     "metadata": {},
     "output_type": "display_data"
    }
   ],
   "source": [
    "# X_train, X_test, y_train, y_test = cross_validation.train_test_split(X_train, y_train)\n",
    "\n",
    "from collections import OrderedDict\n",
    "\n",
    "import random\n",
    "\n",
    "RANDOM_STATE = 13\n",
    "\n",
    "min_estimators, max_estimators = 10, 200\n",
    "n_estimators = np.array([i for i in range(min_estimators, max_estimators)])\n",
    "\n",
    "ensemble_clfs = [\n",
    "\t(\"RandomForestClassifier, max_features='sqrt'\",\n",
    "\t RandomForestClassifier(warm_start=True, oob_score=True,\n",
    "\t max_features=\"sqrt\", random_state=RANDOM_STATE)),\n",
    "\t(\"RandomForestClassifier, max_features='log2'\",\n",
    "\t RandomForestClassifier(warm_start=True, oob_score=True,\n",
    "\t max_features=\"auto\", random_state=RANDOM_STATE)),\n",
    "\t(\"RandomForestClassifier, max_features='n'\",\n",
    "\t RandomForestClassifier(warm_start=True, oob_score=True,\n",
    "\t max_features=len(X_train.columns), random_state=RANDOM_STATE)),\n",
    "]\n",
    "\n",
    "error_rate = OrderedDict((label, []) for label, _ in ensemble_clfs)\n",
    "\n",
    "for label, clf in ensemble_clfs:\n",
    "\tfor i in n_estimators:\n",
    "\t\tclf.set_params(n_estimators=i)\n",
    "\t\tclf.fit(X_train, y_train)\n",
    "\t\toob_error = 1 - clf.oob_score_\n",
    "\t\terror_rate[label].append((i, oob_error))\n",
    "\n",
    "\n",
    "for label, clf_err in error_rate.items():\n",
    "\txs, ys = zip(*clf_err)\n",
    "\tplt.plot(xs, ys, label=label)\n",
    "\n",
    "plt.xlim(min_estimators, max_estimators)\n",
    "plt.xlabel(\"n_estimators\")\n",
    "plt.ylabel(\"oob_error\")\n",
    "plt.legend(\"upper right\")\n",
    "\n",
    "fig = plt.gcf()\n",
    "fig.set_size_inches(10,6)\n",
    "plt.show()\n",
    "\n"
   ]
  },
  {
   "cell_type": "code",
   "execution_count": 576,
   "metadata": {
    "autoscroll": "json-false",
    "collapsed": false,
    "ein.tags": [
     "worksheet-0"
    ],
    "slideshow": {
     "slide_type": "-"
    }
   },
   "outputs": [],
   "source": [
    "prediction = grid.predict(X_final)"
   ]
  },
  {
   "cell_type": "code",
   "execution_count": 549,
   "metadata": {
    "autoscroll": "json-false",
    "collapsed": false,
    "ein.tags": [
     "worksheet-0"
    ],
    "slideshow": {
     "slide_type": "-"
    }
   },
   "outputs": [
    {
     "data": {
      "text/plain": [
       "0.80158730158730163"
      ]
     },
     "execution_count": 549,
     "metadata": {},
     "output_type": "execute_result"
    }
   ],
   "source": []
  },
  {
   "cell_type": "code",
   "execution_count": 612,
   "metadata": {
    "autoscroll": "json-false",
    "collapsed": false,
    "ein.tags": [
     "worksheet-0"
    ],
    "slideshow": {
     "slide_type": "-"
    }
   },
   "outputs": [
    {
     "data": {
      "text/plain": [
       "0.9854096520763187"
      ]
     },
     "execution_count": 612,
     "metadata": {},
     "output_type": "execute_result"
    }
   ],
   "source": [
    "clf = ensemble_clfs[0][1]\n",
    "clf.score(X_train, y_train)"
   ]
  },
  {
   "cell_type": "code",
   "execution_count": 577,
   "metadata": {
    "autoscroll": "json-false",
    "collapsed": false,
    "ein.tags": [
     "worksheet-0"
    ],
    "slideshow": {
     "slide_type": "-"
    }
   },
   "outputs": [],
   "source": [
    "# output = test.join(pd.DataFrame(prediction, columns=['Survived']))\n",
    "# output[['PassengerId', 'Survived']].to_csv('~/personal/ai/projects/titanic/predictions.csv', sep=',', index=False)"
   ]
  },
  {
   "cell_type": "markdown",
   "metadata": {
    "ein.tags": [
     "worksheet-0"
    ],
    "slideshow": {
     "slide_type": "-"
    }
   },
   "source": [
    "## Logistic Regression\n",
    "\n",
    "I'm seeing a score of 0.76555 against the test data. Not so hot. Let's see if logistic regression can do any better."
   ]
  },
  {
   "cell_type": "code",
   "execution_count": 650,
   "metadata": {
    "autoscroll": "json-false",
    "collapsed": false,
    "ein.tags": [
     "worksheet-0"
    ],
    "slideshow": {
     "slide_type": "-"
    }
   },
   "outputs": [],
   "source": [
    "from sklearn.linear_model import LogisticRegression\n",
    "from sklearn.learning_curve import validation_curve\n",
    "\n",
    "np.random.seed(0)\n",
    "indicies = np.arange(y_train.shape[0])\n",
    "np.random.shuffle(indicies)\n",
    "X_shuffle, y_shuffle = X_train.iloc[indicies], y_train.iloc[indicies]\n",
    "sample_range = np.logspace(-7, 8, 20)\n",
    "train_scores, test_scores = validation_curve(LogisticRegression(), X_shuffle, y_shuffle, \"C\", sample_range)\n",
    "\n",
    "train_scores_mean = np.mean(train_scores, axis=1)\n",
    "train_scores_std = np.std(train_scores, axis=1)\n",
    "test_scores_mean = np.mean(test_scores, axis=1)\n",
    "test_scores_std = np.std(test_scores, axis=1)\n"
   ]
  },
  {
   "cell_type": "code",
   "execution_count": 651,
   "metadata": {
    "autoscroll": "json-false",
    "collapsed": false,
    "ein.tags": [
     "worksheet-0"
    ],
    "slideshow": {
     "slide_type": "-"
    }
   },
   "outputs": [
    {
     "data": {
      "image/png": "[encoded data removed]",
      "text/plain": [
       "<matplotlib.figure.Figure at 0x15f5defd0>"
      ]
     },
     "metadata": {},
     "output_type": "display_data"
    },
    {
     "data": {
      "text/plain": [
       "<matplotlib.collections.PolyCollection at 0x15f74eed0>"
      ]
     },
     "execution_count": 651,
     "metadata": {},
     "output_type": "execute_result"
    }
   ],
   "source": [
    "\n",
    "fig = plt.gcf()\n",
    "plt.title('Validation curves varying C')\n",
    "plt.xlabel('C')\n",
    "plt.ylabel('Score')\n",
    "\n",
    "fig.set_size_inches(20, 10)\n",
    "plt.ylim(0,1.1)\n",
    "plt.semilogx(sample_range, train_scores_mean, label=\"train scores\", color='r')\n",
    "plt.fill_between(sample_range, train_scores_mean - train_scores_std, train_scores_mean + train_scores_std, alpha=0.2, color='r')\n",
    "plt.semilogx(sample_range, test_scores_mean, label=\"test scores\", color='g')\n",
    "plt.fill_between(sample_range, test_scores_mean - test_scores_std, test_scores_mean + test_scores_std, alpha=0.2, color='g')"
   ]
  },
  {
   "cell_type": "markdown",
   "metadata": {
    "ein.tags": [
     "worksheet-0"
    ],
    "slideshow": {
     "slide_type": "-"
    }
   },
   "source": [
    "## Learning Curves\n",
    "\n"
   ]
  },
  {
   "cell_type": "code",
   "execution_count": 676,
   "metadata": {
    "autoscroll": "json-false",
    "collapsed": false,
    "ein.tags": [
     "worksheet-0"
    ],
    "slideshow": {
     "slide_type": "-"
    }
   },
   "outputs": [],
   "source": [
    "from sklearn import preprocessing\n",
    "\n",
    "X_train_scaled = preprocessing.scale(X_train)\n",
    "X_test_scaled = preprocessing.scale(X_test)"
   ]
  },
  {
   "cell_type": "code",
   "execution_count": 677,
   "metadata": {
    "autoscroll": "json-false",
    "collapsed": false,
    "ein.tags": [
     "worksheet-0"
    ],
    "slideshow": {
     "slide_type": "-"
    }
   },
   "outputs": [
    {
     "data": {
      "text/plain": [
       "LogisticRegression(C=1.0, class_weight=None, dual=False, fit_intercept=True,\n",
       "          intercept_scaling=1, max_iter=100, multi_class='ovr', n_jobs=1,\n",
       "          penalty='l2', random_state=None, solver='liblinear', tol=0.0001,\n",
       "          verbose=0, warm_start=False)"
      ]
     },
     "execution_count": 677,
     "metadata": {},
     "output_type": "execute_result"
    }
   ],
   "source": [
    "X_train_scaled, X_cv_scaled, y_train, y_cv = cross_validation.train_test_split(X_train_scaled, y_train)\n",
    "\n",
    "clf = LogisticRegression()\n",
    "clf.fit(X_train_scaled, y_train)"
   ]
  },
  {
   "cell_type": "code",
   "execution_count": 679,
   "metadata": {
    "autoscroll": "json-false",
    "collapsed": false,
    "ein.tags": [
     "worksheet-0"
    ],
    "slideshow": {
     "slide_type": "-"
    }
   },
   "outputs": [
    {
     "data": {
      "text/plain": [
       "0.73203592814371254"
      ]
     },
     "execution_count": 679,
     "metadata": {},
     "output_type": "execute_result"
    }
   ],
   "source": [
    "logreg.score(X_train_scaled, y_train)"
   ]
  },
  {
   "cell_type": "code",
   "execution_count": 680,
   "metadata": {
    "autoscroll": "json-false",
    "collapsed": false,
    "ein.tags": [
     "worksheet-0"
    ],
    "slideshow": {
     "slide_type": "-"
    }
   },
   "outputs": [
    {
     "data": {
      "text/plain": [
       "0.77578475336322872"
      ]
     },
     "execution_count": 680,
     "metadata": {},
     "output_type": "execute_result"
    }
   ],
   "source": [
    "logreg.score(X_cv_scaled, y_cv)"
   ]
  },
  {
   "cell_type": "code",
   "execution_count": 666,
   "metadata": {
    "autoscroll": "json-false",
    "collapsed": false,
    "ein.tags": [
     "worksheet-0"
    ],
    "slideshow": {
     "slide_type": "-"
    }
   },
   "outputs": [],
   "source": [
    "logreg_prediction = logreg.predict(X_final)"
   ]
  },
  {
   "cell_type": "code",
   "execution_count": 667,
   "metadata": {
    "autoscroll": "json-false",
    "collapsed": false,
    "ein.tags": [
     "worksheet-0"
    ],
    "slideshow": {
     "slide_type": "-"
    }
   },
   "outputs": [],
   "source": [
    "output = test.join(pd.DataFrame(logreg_prediction, columns=['Survived']))\n",
    "output[['PassengerId', 'Survived']].to_csv('~/personal/ai/projects/titanic/logreg_predictions.csv', sep=',', index=False)"
   ]
  },
  {
   "cell_type": "markdown",
   "metadata": {
    "ein.tags": [
     "worksheet-0"
    ],
    "slideshow": {
     "slide_type": "-"
    }
   },
   "source": [
    "### Feature Scaling / Mean Normalization"
   ]
  }
 ],
 "metadata": {
  "kernelspec": {
   "display_name": "Python [Root]",
   "name": "Python [Root]"
  },
  "name": "titanic.ipynb"
 },
 "nbformat": 4,
 "nbformat_minor": 0
}
